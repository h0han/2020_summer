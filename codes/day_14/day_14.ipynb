{
 "cells": [
  {
   "cell_type": "code",
   "execution_count": 1,
   "metadata": {},
   "outputs": [],
   "source": [
    "# python warning off\n",
    "import warnings\n",
    "warnings.filterwarnings('ignore')\n",
    "\n",
    "# tensorflow warning off\n",
    "import tensorflow as tf\n",
    "tf.compat.v1.logging.set_verbosity(tf.compat.v1.logging.ERROR)"
   ]
  },
  {
   "cell_type": "code",
   "execution_count": 2,
   "metadata": {},
   "outputs": [],
   "source": [
    "%matplotlib inline\n",
    "import matplotlib.pyplot as plt\n",
    "import seaborn as sns\n",
    "import numpy as np\n",
    "import pandas as pd"
   ]
  },
  {
   "cell_type": "code",
   "execution_count": 3,
   "metadata": {},
   "outputs": [],
   "source": [
    "from sklearn.preprocessing import MinMaxScaler  # 0.0 ~ 1.0 사이로 스케일링\n",
    "from sklearn.preprocessing import LabelEncoder  # String ==> int\n",
    "from sklearn.model_selection import train_test_split"
   ]
  },
  {
   "cell_type": "code",
   "execution_count": 4,
   "metadata": {},
   "outputs": [
    {
     "name": "stderr",
     "output_type": "stream",
     "text": [
      "Using TensorFlow backend.\n"
     ]
    }
   ],
   "source": [
    "from keras.models import Sequential\n",
    "from keras.layers import Dense"
   ]
  },
  {
   "cell_type": "code",
   "execution_count": 5,
   "metadata": {},
   "outputs": [],
   "source": [
    "from keras.utils import np_utils"
   ]
  },
  {
   "cell_type": "code",
   "execution_count": 6,
   "metadata": {},
   "outputs": [],
   "source": [
    "from keras.callbacks import ModelCheckpoint\n",
    "from keras.callbacks import EarlyStopping"
   ]
  },
  {
   "cell_type": "code",
   "execution_count": 7,
   "metadata": {},
   "outputs": [],
   "source": [
    "names = ['sl', 'sw', 'pl', 'pw', 'class']"
   ]
  },
  {
   "cell_type": "code",
   "execution_count": 8,
   "metadata": {},
   "outputs": [],
   "source": [
    "df = pd.read_csv('datasets/iris.data', names=names)"
   ]
  },
  {
   "cell_type": "code",
   "execution_count": 9,
   "metadata": {},
   "outputs": [
    {
     "data": {
      "text/html": [
       "<div>\n",
       "<style scoped>\n",
       "    .dataframe tbody tr th:only-of-type {\n",
       "        vertical-align: middle;\n",
       "    }\n",
       "\n",
       "    .dataframe tbody tr th {\n",
       "        vertical-align: top;\n",
       "    }\n",
       "\n",
       "    .dataframe thead th {\n",
       "        text-align: right;\n",
       "    }\n",
       "</style>\n",
       "<table border=\"1\" class=\"dataframe\">\n",
       "  <thead>\n",
       "    <tr style=\"text-align: right;\">\n",
       "      <th></th>\n",
       "      <th>sl</th>\n",
       "      <th>sw</th>\n",
       "      <th>pl</th>\n",
       "      <th>pw</th>\n",
       "      <th>class</th>\n",
       "    </tr>\n",
       "  </thead>\n",
       "  <tbody>\n",
       "    <tr>\n",
       "      <th>0</th>\n",
       "      <td>5.1</td>\n",
       "      <td>3.5</td>\n",
       "      <td>1.4</td>\n",
       "      <td>0.2</td>\n",
       "      <td>Iris-setosa</td>\n",
       "    </tr>\n",
       "    <tr>\n",
       "      <th>1</th>\n",
       "      <td>4.9</td>\n",
       "      <td>3.0</td>\n",
       "      <td>1.4</td>\n",
       "      <td>0.2</td>\n",
       "      <td>Iris-setosa</td>\n",
       "    </tr>\n",
       "    <tr>\n",
       "      <th>2</th>\n",
       "      <td>4.7</td>\n",
       "      <td>3.2</td>\n",
       "      <td>1.3</td>\n",
       "      <td>0.2</td>\n",
       "      <td>Iris-setosa</td>\n",
       "    </tr>\n",
       "    <tr>\n",
       "      <th>3</th>\n",
       "      <td>4.6</td>\n",
       "      <td>3.1</td>\n",
       "      <td>1.5</td>\n",
       "      <td>0.2</td>\n",
       "      <td>Iris-setosa</td>\n",
       "    </tr>\n",
       "    <tr>\n",
       "      <th>4</th>\n",
       "      <td>5.0</td>\n",
       "      <td>3.6</td>\n",
       "      <td>1.4</td>\n",
       "      <td>0.2</td>\n",
       "      <td>Iris-setosa</td>\n",
       "    </tr>\n",
       "    <tr>\n",
       "      <th>...</th>\n",
       "      <td>...</td>\n",
       "      <td>...</td>\n",
       "      <td>...</td>\n",
       "      <td>...</td>\n",
       "      <td>...</td>\n",
       "    </tr>\n",
       "    <tr>\n",
       "      <th>145</th>\n",
       "      <td>6.7</td>\n",
       "      <td>3.0</td>\n",
       "      <td>5.2</td>\n",
       "      <td>2.3</td>\n",
       "      <td>Iris-virginica</td>\n",
       "    </tr>\n",
       "    <tr>\n",
       "      <th>146</th>\n",
       "      <td>6.3</td>\n",
       "      <td>2.5</td>\n",
       "      <td>5.0</td>\n",
       "      <td>1.9</td>\n",
       "      <td>Iris-virginica</td>\n",
       "    </tr>\n",
       "    <tr>\n",
       "      <th>147</th>\n",
       "      <td>6.5</td>\n",
       "      <td>3.0</td>\n",
       "      <td>5.2</td>\n",
       "      <td>2.0</td>\n",
       "      <td>Iris-virginica</td>\n",
       "    </tr>\n",
       "    <tr>\n",
       "      <th>148</th>\n",
       "      <td>6.2</td>\n",
       "      <td>3.4</td>\n",
       "      <td>5.4</td>\n",
       "      <td>2.3</td>\n",
       "      <td>Iris-virginica</td>\n",
       "    </tr>\n",
       "    <tr>\n",
       "      <th>149</th>\n",
       "      <td>5.9</td>\n",
       "      <td>3.0</td>\n",
       "      <td>5.1</td>\n",
       "      <td>1.8</td>\n",
       "      <td>Iris-virginica</td>\n",
       "    </tr>\n",
       "  </tbody>\n",
       "</table>\n",
       "<p>150 rows × 5 columns</p>\n",
       "</div>"
      ],
      "text/plain": [
       "      sl   sw   pl   pw           class\n",
       "0    5.1  3.5  1.4  0.2     Iris-setosa\n",
       "1    4.9  3.0  1.4  0.2     Iris-setosa\n",
       "2    4.7  3.2  1.3  0.2     Iris-setosa\n",
       "3    4.6  3.1  1.5  0.2     Iris-setosa\n",
       "4    5.0  3.6  1.4  0.2     Iris-setosa\n",
       "..   ...  ...  ...  ...             ...\n",
       "145  6.7  3.0  5.2  2.3  Iris-virginica\n",
       "146  6.3  2.5  5.0  1.9  Iris-virginica\n",
       "147  6.5  3.0  5.2  2.0  Iris-virginica\n",
       "148  6.2  3.4  5.4  2.3  Iris-virginica\n",
       "149  5.9  3.0  5.1  1.8  Iris-virginica\n",
       "\n",
       "[150 rows x 5 columns]"
      ]
     },
     "execution_count": 9,
     "metadata": {},
     "output_type": "execute_result"
    }
   ],
   "source": [
    "df"
   ]
  },
  {
   "cell_type": "code",
   "execution_count": 10,
   "metadata": {},
   "outputs": [
    {
     "data": {
      "text/plain": [
       "(150, 5)"
      ]
     },
     "execution_count": 10,
     "metadata": {},
     "output_type": "execute_result"
    }
   ],
   "source": [
    "df.shape"
   ]
  },
  {
   "cell_type": "code",
   "execution_count": 11,
   "metadata": {},
   "outputs": [
    {
     "data": {
      "text/html": [
       "<div>\n",
       "<style scoped>\n",
       "    .dataframe tbody tr th:only-of-type {\n",
       "        vertical-align: middle;\n",
       "    }\n",
       "\n",
       "    .dataframe tbody tr th {\n",
       "        vertical-align: top;\n",
       "    }\n",
       "\n",
       "    .dataframe thead th {\n",
       "        text-align: right;\n",
       "    }\n",
       "</style>\n",
       "<table border=\"1\" class=\"dataframe\">\n",
       "  <thead>\n",
       "    <tr style=\"text-align: right;\">\n",
       "      <th></th>\n",
       "      <th>sl</th>\n",
       "      <th>sw</th>\n",
       "      <th>pl</th>\n",
       "      <th>pw</th>\n",
       "    </tr>\n",
       "  </thead>\n",
       "  <tbody>\n",
       "    <tr>\n",
       "      <th>count</th>\n",
       "      <td>150.000000</td>\n",
       "      <td>150.000000</td>\n",
       "      <td>150.000000</td>\n",
       "      <td>150.000000</td>\n",
       "    </tr>\n",
       "    <tr>\n",
       "      <th>mean</th>\n",
       "      <td>5.843333</td>\n",
       "      <td>3.054000</td>\n",
       "      <td>3.758667</td>\n",
       "      <td>1.198667</td>\n",
       "    </tr>\n",
       "    <tr>\n",
       "      <th>std</th>\n",
       "      <td>0.828066</td>\n",
       "      <td>0.433594</td>\n",
       "      <td>1.764420</td>\n",
       "      <td>0.763161</td>\n",
       "    </tr>\n",
       "    <tr>\n",
       "      <th>min</th>\n",
       "      <td>4.300000</td>\n",
       "      <td>2.000000</td>\n",
       "      <td>1.000000</td>\n",
       "      <td>0.100000</td>\n",
       "    </tr>\n",
       "    <tr>\n",
       "      <th>25%</th>\n",
       "      <td>5.100000</td>\n",
       "      <td>2.800000</td>\n",
       "      <td>1.600000</td>\n",
       "      <td>0.300000</td>\n",
       "    </tr>\n",
       "    <tr>\n",
       "      <th>50%</th>\n",
       "      <td>5.800000</td>\n",
       "      <td>3.000000</td>\n",
       "      <td>4.350000</td>\n",
       "      <td>1.300000</td>\n",
       "    </tr>\n",
       "    <tr>\n",
       "      <th>75%</th>\n",
       "      <td>6.400000</td>\n",
       "      <td>3.300000</td>\n",
       "      <td>5.100000</td>\n",
       "      <td>1.800000</td>\n",
       "    </tr>\n",
       "    <tr>\n",
       "      <th>max</th>\n",
       "      <td>7.900000</td>\n",
       "      <td>4.400000</td>\n",
       "      <td>6.900000</td>\n",
       "      <td>2.500000</td>\n",
       "    </tr>\n",
       "  </tbody>\n",
       "</table>\n",
       "</div>"
      ],
      "text/plain": [
       "               sl          sw          pl          pw\n",
       "count  150.000000  150.000000  150.000000  150.000000\n",
       "mean     5.843333    3.054000    3.758667    1.198667\n",
       "std      0.828066    0.433594    1.764420    0.763161\n",
       "min      4.300000    2.000000    1.000000    0.100000\n",
       "25%      5.100000    2.800000    1.600000    0.300000\n",
       "50%      5.800000    3.000000    4.350000    1.300000\n",
       "75%      6.400000    3.300000    5.100000    1.800000\n",
       "max      7.900000    4.400000    6.900000    2.500000"
      ]
     },
     "execution_count": 11,
     "metadata": {},
     "output_type": "execute_result"
    }
   ],
   "source": [
    "df.describe()"
   ]
  },
  {
   "cell_type": "code",
   "execution_count": 12,
   "metadata": {},
   "outputs": [],
   "source": [
    "Y_encoded = LabelEncoder().fit_transform(df['class'])\n",
    "# 'Iris-setosa' ==> 0, 'Iris-versicolor' ==> 1, 'Iris-virginica' ==> 2"
   ]
  },
  {
   "cell_type": "code",
   "execution_count": 13,
   "metadata": {},
   "outputs": [
    {
     "data": {
      "text/plain": [
       "array([0, 0, 0, 0, 0, 0, 0, 0, 0, 0, 0, 0, 0, 0, 0, 0, 0, 0, 0, 0, 0, 0,\n",
       "       0, 0, 0, 0, 0, 0, 0, 0, 0, 0, 0, 0, 0, 0, 0, 0, 0, 0, 0, 0, 0, 0,\n",
       "       0, 0, 0, 0, 0, 0, 1, 1, 1, 1, 1, 1, 1, 1, 1, 1, 1, 1, 1, 1, 1, 1,\n",
       "       1, 1, 1, 1, 1, 1, 1, 1, 1, 1, 1, 1, 1, 1, 1, 1, 1, 1, 1, 1, 1, 1,\n",
       "       1, 1, 1, 1, 1, 1, 1, 1, 1, 1, 1, 1, 2, 2, 2, 2, 2, 2, 2, 2, 2, 2,\n",
       "       2, 2, 2, 2, 2, 2, 2, 2, 2, 2, 2, 2, 2, 2, 2, 2, 2, 2, 2, 2, 2, 2,\n",
       "       2, 2, 2, 2, 2, 2, 2, 2, 2, 2, 2, 2, 2, 2, 2, 2, 2, 2])"
      ]
     },
     "execution_count": 13,
     "metadata": {},
     "output_type": "execute_result"
    }
   ],
   "source": [
    "Y_encoded"
   ]
  },
  {
   "cell_type": "code",
   "execution_count": 14,
   "metadata": {},
   "outputs": [],
   "source": [
    "Y = np_utils.to_categorical(Y_encoded)  # One Hot Encoding\n",
    "# 0 ==> [1,0,0], 1 ==> [0,1,0], 2 ==> [0,0,1]"
   ]
  },
  {
   "cell_type": "code",
   "execution_count": 15,
   "metadata": {},
   "outputs": [
    {
     "data": {
      "text/plain": [
       "array([[1., 0., 0.],\n",
       "       [1., 0., 0.],\n",
       "       [1., 0., 0.],\n",
       "       [1., 0., 0.],\n",
       "       [1., 0., 0.],\n",
       "       [1., 0., 0.],\n",
       "       [1., 0., 0.],\n",
       "       [1., 0., 0.],\n",
       "       [1., 0., 0.],\n",
       "       [1., 0., 0.],\n",
       "       [1., 0., 0.],\n",
       "       [1., 0., 0.],\n",
       "       [1., 0., 0.],\n",
       "       [1., 0., 0.],\n",
       "       [1., 0., 0.],\n",
       "       [1., 0., 0.],\n",
       "       [1., 0., 0.],\n",
       "       [1., 0., 0.],\n",
       "       [1., 0., 0.],\n",
       "       [1., 0., 0.],\n",
       "       [1., 0., 0.],\n",
       "       [1., 0., 0.],\n",
       "       [1., 0., 0.],\n",
       "       [1., 0., 0.],\n",
       "       [1., 0., 0.],\n",
       "       [1., 0., 0.],\n",
       "       [1., 0., 0.],\n",
       "       [1., 0., 0.],\n",
       "       [1., 0., 0.],\n",
       "       [1., 0., 0.],\n",
       "       [1., 0., 0.],\n",
       "       [1., 0., 0.],\n",
       "       [1., 0., 0.],\n",
       "       [1., 0., 0.],\n",
       "       [1., 0., 0.],\n",
       "       [1., 0., 0.],\n",
       "       [1., 0., 0.],\n",
       "       [1., 0., 0.],\n",
       "       [1., 0., 0.],\n",
       "       [1., 0., 0.],\n",
       "       [1., 0., 0.],\n",
       "       [1., 0., 0.],\n",
       "       [1., 0., 0.],\n",
       "       [1., 0., 0.],\n",
       "       [1., 0., 0.],\n",
       "       [1., 0., 0.],\n",
       "       [1., 0., 0.],\n",
       "       [1., 0., 0.],\n",
       "       [1., 0., 0.],\n",
       "       [1., 0., 0.],\n",
       "       [0., 1., 0.],\n",
       "       [0., 1., 0.],\n",
       "       [0., 1., 0.],\n",
       "       [0., 1., 0.],\n",
       "       [0., 1., 0.],\n",
       "       [0., 1., 0.],\n",
       "       [0., 1., 0.],\n",
       "       [0., 1., 0.],\n",
       "       [0., 1., 0.],\n",
       "       [0., 1., 0.],\n",
       "       [0., 1., 0.],\n",
       "       [0., 1., 0.],\n",
       "       [0., 1., 0.],\n",
       "       [0., 1., 0.],\n",
       "       [0., 1., 0.],\n",
       "       [0., 1., 0.],\n",
       "       [0., 1., 0.],\n",
       "       [0., 1., 0.],\n",
       "       [0., 1., 0.],\n",
       "       [0., 1., 0.],\n",
       "       [0., 1., 0.],\n",
       "       [0., 1., 0.],\n",
       "       [0., 1., 0.],\n",
       "       [0., 1., 0.],\n",
       "       [0., 1., 0.],\n",
       "       [0., 1., 0.],\n",
       "       [0., 1., 0.],\n",
       "       [0., 1., 0.],\n",
       "       [0., 1., 0.],\n",
       "       [0., 1., 0.],\n",
       "       [0., 1., 0.],\n",
       "       [0., 1., 0.],\n",
       "       [0., 1., 0.],\n",
       "       [0., 1., 0.],\n",
       "       [0., 1., 0.],\n",
       "       [0., 1., 0.],\n",
       "       [0., 1., 0.],\n",
       "       [0., 1., 0.],\n",
       "       [0., 1., 0.],\n",
       "       [0., 1., 0.],\n",
       "       [0., 1., 0.],\n",
       "       [0., 1., 0.],\n",
       "       [0., 1., 0.],\n",
       "       [0., 1., 0.],\n",
       "       [0., 1., 0.],\n",
       "       [0., 1., 0.],\n",
       "       [0., 1., 0.],\n",
       "       [0., 1., 0.],\n",
       "       [0., 1., 0.],\n",
       "       [0., 1., 0.],\n",
       "       [0., 0., 1.],\n",
       "       [0., 0., 1.],\n",
       "       [0., 0., 1.],\n",
       "       [0., 0., 1.],\n",
       "       [0., 0., 1.],\n",
       "       [0., 0., 1.],\n",
       "       [0., 0., 1.],\n",
       "       [0., 0., 1.],\n",
       "       [0., 0., 1.],\n",
       "       [0., 0., 1.],\n",
       "       [0., 0., 1.],\n",
       "       [0., 0., 1.],\n",
       "       [0., 0., 1.],\n",
       "       [0., 0., 1.],\n",
       "       [0., 0., 1.],\n",
       "       [0., 0., 1.],\n",
       "       [0., 0., 1.],\n",
       "       [0., 0., 1.],\n",
       "       [0., 0., 1.],\n",
       "       [0., 0., 1.],\n",
       "       [0., 0., 1.],\n",
       "       [0., 0., 1.],\n",
       "       [0., 0., 1.],\n",
       "       [0., 0., 1.],\n",
       "       [0., 0., 1.],\n",
       "       [0., 0., 1.],\n",
       "       [0., 0., 1.],\n",
       "       [0., 0., 1.],\n",
       "       [0., 0., 1.],\n",
       "       [0., 0., 1.],\n",
       "       [0., 0., 1.],\n",
       "       [0., 0., 1.],\n",
       "       [0., 0., 1.],\n",
       "       [0., 0., 1.],\n",
       "       [0., 0., 1.],\n",
       "       [0., 0., 1.],\n",
       "       [0., 0., 1.],\n",
       "       [0., 0., 1.],\n",
       "       [0., 0., 1.],\n",
       "       [0., 0., 1.],\n",
       "       [0., 0., 1.],\n",
       "       [0., 0., 1.],\n",
       "       [0., 0., 1.],\n",
       "       [0., 0., 1.],\n",
       "       [0., 0., 1.],\n",
       "       [0., 0., 1.],\n",
       "       [0., 0., 1.],\n",
       "       [0., 0., 1.],\n",
       "       [0., 0., 1.],\n",
       "       [0., 0., 1.]], dtype=float32)"
      ]
     },
     "execution_count": 15,
     "metadata": {},
     "output_type": "execute_result"
    }
   ],
   "source": [
    "Y"
   ]
  },
  {
   "cell_type": "code",
   "execution_count": 16,
   "metadata": {},
   "outputs": [],
   "source": [
    "X = df.drop('class', axis=1)"
   ]
  },
  {
   "cell_type": "code",
   "execution_count": 17,
   "metadata": {},
   "outputs": [
    {
     "data": {
      "text/html": [
       "<div>\n",
       "<style scoped>\n",
       "    .dataframe tbody tr th:only-of-type {\n",
       "        vertical-align: middle;\n",
       "    }\n",
       "\n",
       "    .dataframe tbody tr th {\n",
       "        vertical-align: top;\n",
       "    }\n",
       "\n",
       "    .dataframe thead th {\n",
       "        text-align: right;\n",
       "    }\n",
       "</style>\n",
       "<table border=\"1\" class=\"dataframe\">\n",
       "  <thead>\n",
       "    <tr style=\"text-align: right;\">\n",
       "      <th></th>\n",
       "      <th>sl</th>\n",
       "      <th>sw</th>\n",
       "      <th>pl</th>\n",
       "      <th>pw</th>\n",
       "    </tr>\n",
       "  </thead>\n",
       "  <tbody>\n",
       "    <tr>\n",
       "      <th>0</th>\n",
       "      <td>5.1</td>\n",
       "      <td>3.5</td>\n",
       "      <td>1.4</td>\n",
       "      <td>0.2</td>\n",
       "    </tr>\n",
       "    <tr>\n",
       "      <th>1</th>\n",
       "      <td>4.9</td>\n",
       "      <td>3.0</td>\n",
       "      <td>1.4</td>\n",
       "      <td>0.2</td>\n",
       "    </tr>\n",
       "    <tr>\n",
       "      <th>2</th>\n",
       "      <td>4.7</td>\n",
       "      <td>3.2</td>\n",
       "      <td>1.3</td>\n",
       "      <td>0.2</td>\n",
       "    </tr>\n",
       "    <tr>\n",
       "      <th>3</th>\n",
       "      <td>4.6</td>\n",
       "      <td>3.1</td>\n",
       "      <td>1.5</td>\n",
       "      <td>0.2</td>\n",
       "    </tr>\n",
       "    <tr>\n",
       "      <th>4</th>\n",
       "      <td>5.0</td>\n",
       "      <td>3.6</td>\n",
       "      <td>1.4</td>\n",
       "      <td>0.2</td>\n",
       "    </tr>\n",
       "    <tr>\n",
       "      <th>...</th>\n",
       "      <td>...</td>\n",
       "      <td>...</td>\n",
       "      <td>...</td>\n",
       "      <td>...</td>\n",
       "    </tr>\n",
       "    <tr>\n",
       "      <th>145</th>\n",
       "      <td>6.7</td>\n",
       "      <td>3.0</td>\n",
       "      <td>5.2</td>\n",
       "      <td>2.3</td>\n",
       "    </tr>\n",
       "    <tr>\n",
       "      <th>146</th>\n",
       "      <td>6.3</td>\n",
       "      <td>2.5</td>\n",
       "      <td>5.0</td>\n",
       "      <td>1.9</td>\n",
       "    </tr>\n",
       "    <tr>\n",
       "      <th>147</th>\n",
       "      <td>6.5</td>\n",
       "      <td>3.0</td>\n",
       "      <td>5.2</td>\n",
       "      <td>2.0</td>\n",
       "    </tr>\n",
       "    <tr>\n",
       "      <th>148</th>\n",
       "      <td>6.2</td>\n",
       "      <td>3.4</td>\n",
       "      <td>5.4</td>\n",
       "      <td>2.3</td>\n",
       "    </tr>\n",
       "    <tr>\n",
       "      <th>149</th>\n",
       "      <td>5.9</td>\n",
       "      <td>3.0</td>\n",
       "      <td>5.1</td>\n",
       "      <td>1.8</td>\n",
       "    </tr>\n",
       "  </tbody>\n",
       "</table>\n",
       "<p>150 rows × 4 columns</p>\n",
       "</div>"
      ],
      "text/plain": [
       "      sl   sw   pl   pw\n",
       "0    5.1  3.5  1.4  0.2\n",
       "1    4.9  3.0  1.4  0.2\n",
       "2    4.7  3.2  1.3  0.2\n",
       "3    4.6  3.1  1.5  0.2\n",
       "4    5.0  3.6  1.4  0.2\n",
       "..   ...  ...  ...  ...\n",
       "145  6.7  3.0  5.2  2.3\n",
       "146  6.3  2.5  5.0  1.9\n",
       "147  6.5  3.0  5.2  2.0\n",
       "148  6.2  3.4  5.4  2.3\n",
       "149  5.9  3.0  5.1  1.8\n",
       "\n",
       "[150 rows x 4 columns]"
      ]
     },
     "execution_count": 17,
     "metadata": {},
     "output_type": "execute_result"
    }
   ],
   "source": [
    "X"
   ]
  },
  {
   "cell_type": "code",
   "execution_count": 18,
   "metadata": {},
   "outputs": [],
   "source": [
    "X_train, X_test, y_train, y_test = train_test_split(X, Y, test_size=0.1, random_state=42)"
   ]
  },
  {
   "cell_type": "code",
   "execution_count": 19,
   "metadata": {},
   "outputs": [],
   "source": [
    "check_pointer = ModelCheckpoint(filepath='iris_model.h5', monitor='val_loss',\n",
    "                               verbose=1, save_best_only=True)"
   ]
  },
  {
   "cell_type": "code",
   "execution_count": 20,
   "metadata": {},
   "outputs": [],
   "source": [
    "early_stoper = EarlyStopping(monitor='val_loss', patience=3)"
   ]
  },
  {
   "cell_type": "code",
   "execution_count": 21,
   "metadata": {},
   "outputs": [],
   "source": [
    "model = Sequential()"
   ]
  },
  {
   "cell_type": "code",
   "execution_count": 22,
   "metadata": {},
   "outputs": [
    {
     "name": "stdout",
     "output_type": "stream",
     "text": [
      "_________________________________________________________________\n",
      "Layer (type)                 Output Shape              Param #   \n",
      "=================================================================\n",
      "dense_1 (Dense)              (None, 256)               1280      \n",
      "_________________________________________________________________\n",
      "dense_2 (Dense)              (None, 128)               32896     \n",
      "_________________________________________________________________\n",
      "dense_3 (Dense)              (None, 32)                4128      \n",
      "_________________________________________________________________\n",
      "dense_4 (Dense)              (None, 3)                 99        \n",
      "=================================================================\n",
      "Total params: 38,403\n",
      "Trainable params: 38,403\n",
      "Non-trainable params: 0\n",
      "_________________________________________________________________\n"
     ]
    }
   ],
   "source": [
    "model.add(Dense(256, activation='relu', input_shape=(4,)))\n",
    "model.add(Dense(128, activation='relu'))\n",
    "model.add(Dense(32, activation='relu'))\n",
    "model.add(Dense(3, activation='softmax'))\n",
    "model.summary()"
   ]
  },
  {
   "cell_type": "code",
   "execution_count": 23,
   "metadata": {},
   "outputs": [],
   "source": [
    "model.compile(loss='categorical_crossentropy', optimizer='adam', metrics=['accuracy'])"
   ]
  },
  {
   "cell_type": "code",
   "execution_count": 24,
   "metadata": {},
   "outputs": [
    {
     "name": "stdout",
     "output_type": "stream",
     "text": [
      "Train on 121 samples, validate on 14 samples\n",
      "Epoch 1/50\n",
      "121/121 [==============================] - 0s 4ms/step - loss: 1.0847 - acc: 0.3471 - val_loss: 0.8993 - val_acc: 0.6429\n",
      "\n",
      "Epoch 00001: val_loss improved from inf to 0.89929, saving model to iris_model.h5\n",
      "Epoch 2/50\n",
      "121/121 [==============================] - 0s 107us/step - loss: 0.8955 - acc: 0.7273 - val_loss: 0.8578 - val_acc: 0.8571\n",
      "\n",
      "Epoch 00002: val_loss improved from 0.89929 to 0.85777, saving model to iris_model.h5\n",
      "Epoch 3/50\n",
      "121/121 [==============================] - 0s 157us/step - loss: 0.7769 - acc: 0.9256 - val_loss: 0.7336 - val_acc: 0.6429\n",
      "\n",
      "Epoch 00003: val_loss improved from 0.85777 to 0.73357, saving model to iris_model.h5\n",
      "Epoch 4/50\n",
      "121/121 [==============================] - 0s 107us/step - loss: 0.6681 - acc: 0.6777 - val_loss: 0.6230 - val_acc: 0.6429\n",
      "\n",
      "Epoch 00004: val_loss improved from 0.73357 to 0.62297, saving model to iris_model.h5\n",
      "Epoch 5/50\n",
      "121/121 [==============================] - 0s 99us/step - loss: 0.5685 - acc: 0.7107 - val_loss: 0.5467 - val_acc: 1.0000\n",
      "\n",
      "Epoch 00005: val_loss improved from 0.62297 to 0.54675, saving model to iris_model.h5\n",
      "Epoch 6/50\n",
      "121/121 [==============================] - 0s 99us/step - loss: 0.4842 - acc: 0.9421 - val_loss: 0.4808 - val_acc: 1.0000\n",
      "\n",
      "Epoch 00006: val_loss improved from 0.54675 to 0.48082, saving model to iris_model.h5\n",
      "Epoch 7/50\n",
      "121/121 [==============================] - 0s 107us/step - loss: 0.4096 - acc: 0.9421 - val_loss: 0.4144 - val_acc: 1.0000\n",
      "\n",
      "Epoch 00007: val_loss improved from 0.48082 to 0.41442, saving model to iris_model.h5\n",
      "Epoch 8/50\n",
      "121/121 [==============================] - 0s 107us/step - loss: 0.3643 - acc: 0.9256 - val_loss: 0.3772 - val_acc: 1.0000\n",
      "\n",
      "Epoch 00008: val_loss improved from 0.41442 to 0.37722, saving model to iris_model.h5\n",
      "Epoch 9/50\n",
      "121/121 [==============================] - 0s 116us/step - loss: 0.3165 - acc: 0.9669 - val_loss: 0.3182 - val_acc: 1.0000\n",
      "\n",
      "Epoch 00009: val_loss improved from 0.37722 to 0.31817, saving model to iris_model.h5\n",
      "Epoch 10/50\n",
      "121/121 [==============================] - 0s 99us/step - loss: 0.2845 - acc: 0.9752 - val_loss: 0.2758 - val_acc: 1.0000\n",
      "\n",
      "Epoch 00010: val_loss improved from 0.31817 to 0.27580, saving model to iris_model.h5\n",
      "Epoch 11/50\n",
      "121/121 [==============================] - 0s 124us/step - loss: 0.2543 - acc: 0.9587 - val_loss: 0.2357 - val_acc: 1.0000\n",
      "\n",
      "Epoch 00011: val_loss improved from 0.27580 to 0.23568, saving model to iris_model.h5\n",
      "Epoch 12/50\n",
      "121/121 [==============================] - 0s 107us/step - loss: 0.2304 - acc: 0.9504 - val_loss: 0.2014 - val_acc: 1.0000\n",
      "\n",
      "Epoch 00012: val_loss improved from 0.23568 to 0.20140, saving model to iris_model.h5\n",
      "Epoch 13/50\n",
      "121/121 [==============================] - 0s 99us/step - loss: 0.2054 - acc: 0.9504 - val_loss: 0.2018 - val_acc: 1.0000\n",
      "\n",
      "Epoch 00013: val_loss did not improve from 0.20140\n",
      "Epoch 14/50\n",
      "121/121 [==============================] - 0s 107us/step - loss: 0.1846 - acc: 0.9835 - val_loss: 0.1465 - val_acc: 1.0000\n",
      "\n",
      "Epoch 00014: val_loss improved from 0.20140 to 0.14648, saving model to iris_model.h5\n",
      "Epoch 15/50\n",
      "121/121 [==============================] - 0s 107us/step - loss: 0.1640 - acc: 0.9752 - val_loss: 0.1611 - val_acc: 1.0000\n",
      "\n",
      "Epoch 00015: val_loss did not improve from 0.14648\n",
      "Epoch 16/50\n",
      "121/121 [==============================] - 0s 107us/step - loss: 0.1591 - acc: 0.9421 - val_loss: 0.1191 - val_acc: 1.0000\n",
      "\n",
      "Epoch 00016: val_loss improved from 0.14648 to 0.11914, saving model to iris_model.h5\n",
      "Epoch 17/50\n",
      "121/121 [==============================] - 0s 116us/step - loss: 0.1400 - acc: 0.9752 - val_loss: 0.0957 - val_acc: 1.0000\n",
      "\n",
      "Epoch 00017: val_loss improved from 0.11914 to 0.09567, saving model to iris_model.h5\n",
      "Epoch 18/50\n",
      "121/121 [==============================] - 0s 99us/step - loss: 0.1313 - acc: 0.9669 - val_loss: 0.0886 - val_acc: 1.0000\n",
      "\n",
      "Epoch 00018: val_loss improved from 0.09567 to 0.08865, saving model to iris_model.h5\n",
      "Epoch 19/50\n",
      "121/121 [==============================] - 0s 107us/step - loss: 0.1245 - acc: 0.9835 - val_loss: 0.0717 - val_acc: 1.0000\n",
      "\n",
      "Epoch 00019: val_loss improved from 0.08865 to 0.07169, saving model to iris_model.h5\n",
      "Epoch 20/50\n",
      "121/121 [==============================] - 0s 140us/step - loss: 0.1165 - acc: 0.9752 - val_loss: 0.0752 - val_acc: 1.0000\n",
      "\n",
      "Epoch 00020: val_loss did not improve from 0.07169\n",
      "Epoch 21/50\n",
      "121/121 [==============================] - 0s 116us/step - loss: 0.1132 - acc: 0.9752 - val_loss: 0.0607 - val_acc: 1.0000\n",
      "\n",
      "Epoch 00021: val_loss improved from 0.07169 to 0.06070, saving model to iris_model.h5\n",
      "Epoch 22/50\n",
      "121/121 [==============================] - 0s 109us/step - loss: 0.1056 - acc: 0.9752 - val_loss: 0.0511 - val_acc: 1.0000\n",
      "\n",
      "Epoch 00022: val_loss improved from 0.06070 to 0.05108, saving model to iris_model.h5\n",
      "Epoch 23/50\n",
      "121/121 [==============================] - 0s 107us/step - loss: 0.1045 - acc: 0.9752 - val_loss: 0.0481 - val_acc: 1.0000\n",
      "\n",
      "Epoch 00023: val_loss improved from 0.05108 to 0.04815, saving model to iris_model.h5\n",
      "Epoch 24/50\n",
      "121/121 [==============================] - 0s 132us/step - loss: 0.0976 - acc: 0.9835 - val_loss: 0.0498 - val_acc: 1.0000\n",
      "\n",
      "Epoch 00024: val_loss did not improve from 0.04815\n",
      "Epoch 25/50\n",
      "121/121 [==============================] - 0s 124us/step - loss: 0.1040 - acc: 0.9752 - val_loss: 0.0386 - val_acc: 1.0000\n",
      "\n",
      "Epoch 00025: val_loss improved from 0.04815 to 0.03861, saving model to iris_model.h5\n",
      "Epoch 26/50\n",
      "121/121 [==============================] - 0s 116us/step - loss: 0.0904 - acc: 0.9835 - val_loss: 0.0532 - val_acc: 1.0000\n",
      "\n",
      "Epoch 00026: val_loss did not improve from 0.03861\n",
      "Epoch 27/50\n",
      "121/121 [==============================] - 0s 99us/step - loss: 0.0965 - acc: 0.9504 - val_loss: 0.0345 - val_acc: 1.0000\n",
      "\n",
      "Epoch 00027: val_loss improved from 0.03861 to 0.03446, saving model to iris_model.h5\n",
      "Epoch 28/50\n",
      "121/121 [==============================] - 0s 99us/step - loss: 0.0962 - acc: 0.9752 - val_loss: 0.0338 - val_acc: 1.0000\n",
      "\n",
      "Epoch 00028: val_loss improved from 0.03446 to 0.03376, saving model to iris_model.h5\n",
      "Epoch 29/50\n",
      "121/121 [==============================] - 0s 116us/step - loss: 0.0883 - acc: 0.9669 - val_loss: 0.0419 - val_acc: 1.0000\n",
      "\n",
      "Epoch 00029: val_loss did not improve from 0.03376\n",
      "Epoch 30/50\n",
      "121/121 [==============================] - 0s 124us/step - loss: 0.0834 - acc: 0.9752 - val_loss: 0.0277 - val_acc: 1.0000\n",
      "\n",
      "Epoch 00030: val_loss improved from 0.03376 to 0.02766, saving model to iris_model.h5\n",
      "Epoch 31/50\n",
      "121/121 [==============================] - 0s 107us/step - loss: 0.0853 - acc: 0.9752 - val_loss: 0.0307 - val_acc: 1.0000\n",
      "\n",
      "Epoch 00031: val_loss did not improve from 0.02766\n",
      "Epoch 32/50\n",
      "121/121 [==============================] - 0s 116us/step - loss: 0.0839 - acc: 0.9752 - val_loss: 0.0277 - val_acc: 1.0000\n",
      "\n",
      "Epoch 00032: val_loss did not improve from 0.02766\n",
      "Epoch 33/50\n",
      "121/121 [==============================] - 0s 99us/step - loss: 0.0860 - acc: 0.9752 - val_loss: 0.0265 - val_acc: 1.0000\n",
      "\n",
      "Epoch 00033: val_loss improved from 0.02766 to 0.02651, saving model to iris_model.h5\n",
      "Epoch 34/50\n",
      "121/121 [==============================] - 0s 99us/step - loss: 0.0809 - acc: 0.9752 - val_loss: 0.0239 - val_acc: 1.0000\n",
      "\n",
      "Epoch 00034: val_loss improved from 0.02651 to 0.02390, saving model to iris_model.h5\n",
      "Epoch 35/50\n",
      "121/121 [==============================] - 0s 99us/step - loss: 0.0822 - acc: 0.9669 - val_loss: 0.0213 - val_acc: 1.0000\n",
      "\n",
      "Epoch 00035: val_loss improved from 0.02390 to 0.02133, saving model to iris_model.h5\n",
      "Epoch 36/50\n",
      "121/121 [==============================] - 0s 107us/step - loss: 0.0955 - acc: 0.9669 - val_loss: 0.0238 - val_acc: 1.0000\n",
      "\n",
      "Epoch 00036: val_loss did not improve from 0.02133\n",
      "Epoch 37/50\n",
      "121/121 [==============================] - 0s 107us/step - loss: 0.0790 - acc: 0.9669 - val_loss: 0.0197 - val_acc: 1.0000\n",
      "\n",
      "Epoch 00037: val_loss improved from 0.02133 to 0.01975, saving model to iris_model.h5\n",
      "Epoch 38/50\n",
      "121/121 [==============================] - 0s 91us/step - loss: 0.0973 - acc: 0.9752 - val_loss: 0.0216 - val_acc: 1.0000\n",
      "\n",
      "Epoch 00038: val_loss did not improve from 0.01975\n",
      "Epoch 39/50\n",
      "121/121 [==============================] - 0s 132us/step - loss: 0.1230 - acc: 0.9421 - val_loss: 0.0214 - val_acc: 1.0000\n",
      "\n",
      "Epoch 00039: val_loss did not improve from 0.01975\n",
      "Epoch 40/50\n",
      "121/121 [==============================] - 0s 116us/step - loss: 0.0797 - acc: 0.9835 - val_loss: 0.0237 - val_acc: 1.0000\n",
      "\n",
      "Epoch 00040: val_loss did not improve from 0.01975\n",
      "Wall time: 3.21 s\n"
     ]
    }
   ],
   "source": [
    "%%time\n",
    "hist = model.fit(X_train, y_train, epochs=50, validation_split=0.1,\n",
    "                 callbacks=[check_pointer, early_stoper])"
   ]
  },
  {
   "cell_type": "code",
   "execution_count": 25,
   "metadata": {},
   "outputs": [
    {
     "name": "stdout",
     "output_type": "stream",
     "text": [
      "dict_keys(['val_loss', 'val_acc', 'loss', 'acc'])\n"
     ]
    }
   ],
   "source": [
    "print(hist.history.keys())"
   ]
  },
  {
   "cell_type": "code",
   "execution_count": 26,
   "metadata": {},
   "outputs": [
    {
     "data": {
      "image/png": "[encoded data removed]",
      "text/plain": [
       "<Figure size 720x720 with 2 Axes>"
      ]
     },
     "metadata": {
      "needs_background": "light"
     },
     "output_type": "display_data"
    }
   ],
   "source": [
    "plt.figure(figsize=(10,10))\n",
    "plt.subplot(1,2,1)  # 121\n",
    "plt.plot(hist.history['acc'])     # train accuracy\n",
    "plt.plot(hist.history['val_acc']) # validation accuracy\n",
    "plt.title('accuracy')\n",
    "plt.legend(['acc', 'val_acc'])\n",
    "plt.subplot(1,2,2)\n",
    "plt.plot(hist.history['loss'])      # train loss\n",
    "plt.plot(hist.history['val_loss'])  # validation loss\n",
    "plt.title('loss')\n",
    "plt.legend(['loss', 'val_loss'])\n",
    "plt.show()"
   ]
  },
  {
   "cell_type": "code",
   "execution_count": 27,
   "metadata": {},
   "outputs": [
    {
     "name": "stdout",
     "output_type": "stream",
     "text": [
      "\r",
      "15/15 [==============================] - 0s 133us/step\n"
     ]
    }
   ],
   "source": [
    "loss_score = model.evaluate(X_test, y_test)"
   ]
  },
  {
   "cell_type": "code",
   "execution_count": 28,
   "metadata": {},
   "outputs": [
    {
     "name": "stdout",
     "output_type": "stream",
     "text": [
      "[0.1413884162902832, 0.9333333373069763]\n"
     ]
    }
   ],
   "source": [
    "print(loss_score)\n",
    "# [0.0979449525475502, 0.9333333373069763], [loss, score], 93.3% 정확도"
   ]
  },
  {
   "cell_type": "code",
   "execution_count": 29,
   "metadata": {},
   "outputs": [
    {
     "name": "stdout",
     "output_type": "stream",
     "text": [
      "[[6.17071229e-04 9.03424501e-01 9.59584415e-02]\n",
      " [9.99498606e-01 5.01406495e-04 2.36666224e-08]\n",
      " [9.80141301e-09 2.17993118e-04 9.99782026e-01]\n",
      " [6.25751331e-04 8.11969817e-01 1.87404394e-01]\n",
      " [3.39808437e-04 9.27831054e-01 7.18291253e-02]\n",
      " [9.98904824e-01 1.09502405e-03 1.11504377e-07]\n",
      " [3.50841088e-03 9.93802428e-01 2.68911757e-03]\n",
      " [5.68872883e-06 2.72730179e-02 9.72721279e-01]\n",
      " [1.14618175e-04 2.02930704e-01 7.96954691e-01]\n",
      " [1.47063273e-03 9.93625402e-01 4.90386551e-03]\n",
      " [2.85726510e-05 9.09370780e-02 9.09034371e-01]\n",
      " [9.98555005e-01 1.44463766e-03 3.00103721e-07]\n",
      " [9.99623060e-01 3.76954355e-04 2.46877772e-08]\n",
      " [9.98608887e-01 1.39090465e-03 2.39284446e-07]\n",
      " [9.99497175e-01 5.02788869e-04 4.31651550e-08]]\n",
      "[[0. 1. 0.]\n",
      " [1. 0. 0.]\n",
      " [0. 0. 1.]\n",
      " [0. 1. 0.]\n",
      " [0. 1. 0.]\n",
      " [1. 0. 0.]\n",
      " [0. 1. 0.]\n",
      " [0. 0. 1.]\n",
      " [0. 1. 0.]\n",
      " [0. 1. 0.]\n",
      " [0. 0. 1.]\n",
      " [1. 0. 0.]\n",
      " [1. 0. 0.]\n",
      " [1. 0. 0.]\n",
      " [1. 0. 0.]]\n",
      "[1 0 2 1 1 0 1 2 2 1 2 0 0 0 0]\n"
     ]
    }
   ],
   "source": [
    "pred = model.predict(X_test)\n",
    "print(pred)\n",
    "print(y_test)\n",
    "print(model.predict_classes(X_test))"
   ]
  },
  {
   "cell_type": "code",
   "execution_count": 30,
   "metadata": {},
   "outputs": [],
   "source": [
    "# RNN ==> LSTM 실습 : 비트코인 가격 예측"
   ]
  },
  {
   "cell_type": "code",
   "execution_count": 31,
   "metadata": {},
   "outputs": [],
   "source": [
    "%matplotlib inline\n",
    "import matplotlib.pyplot as plt\n",
    "import seaborn as sns\n",
    "import numpy as np\n",
    "import pandas as pd"
   ]
  },
  {
   "cell_type": "code",
   "execution_count": 32,
   "metadata": {},
   "outputs": [],
   "source": [
    "from sklearn.preprocessing import MinMaxScaler"
   ]
  },
  {
   "cell_type": "code",
   "execution_count": 33,
   "metadata": {},
   "outputs": [],
   "source": [
    "import requests"
   ]
  },
  {
   "cell_type": "code",
   "execution_count": 34,
   "metadata": {},
   "outputs": [],
   "source": [
    "from keras.models import Sequential"
   ]
  },
  {
   "cell_type": "code",
   "execution_count": 35,
   "metadata": {},
   "outputs": [],
   "source": [
    "from keras.layers import Dense"
   ]
  },
  {
   "cell_type": "code",
   "execution_count": 36,
   "metadata": {},
   "outputs": [],
   "source": [
    "from keras.layers import Dropout"
   ]
  },
  {
   "cell_type": "code",
   "execution_count": 37,
   "metadata": {},
   "outputs": [],
   "source": [
    "from keras.layers import LSTM"
   ]
  },
  {
   "cell_type": "code",
   "execution_count": 38,
   "metadata": {},
   "outputs": [],
   "source": [
    "# url = \"https://poloniex.com/public?command=returnChartData&currencyPair=USDT_BTC&start=1405699200&end=9999999999&period=86400\"\n",
    "# ret = requests.get(url)  # <Response [200]>\n",
    "# json_data = ret.json()\n",
    "# df_origin = pd.DataFrame(json_data)\n",
    "# df_origin\n",
    "# df_origin.to_csv('bitcoin_origin.csv', encoding='utf-8', index=False)\n",
    "# scaler = MinMaxScaler()\n",
    "# df_origin[['close']] = scaler.fit_transform(df_origin[['close']])\n",
    "# df_origin.head()\n",
    "# df_origin.to_csv(\"bitcoin_scaled.csv\", encoding='utf-8', index=False)\n",
    "# del df_origin"
   ]
  },
  {
   "cell_type": "code",
   "execution_count": 39,
   "metadata": {},
   "outputs": [],
   "source": [
    "df = pd.read_csv(\"bitcoin_scaled.csv\")"
   ]
  },
  {
   "cell_type": "code",
   "execution_count": 40,
   "metadata": {},
   "outputs": [
    {
     "data": {
      "text/plain": [
       "(2014, 8)"
      ]
     },
     "execution_count": 40,
     "metadata": {},
     "output_type": "execute_result"
    }
   ],
   "source": [
    "df.shape"
   ]
  },
  {
   "cell_type": "code",
   "execution_count": 41,
   "metadata": {},
   "outputs": [
    {
     "data": {
      "text/html": [
       "<div>\n",
       "<style scoped>\n",
       "    .dataframe tbody tr th:only-of-type {\n",
       "        vertical-align: middle;\n",
       "    }\n",
       "\n",
       "    .dataframe tbody tr th {\n",
       "        vertical-align: top;\n",
       "    }\n",
       "\n",
       "    .dataframe thead th {\n",
       "        text-align: right;\n",
       "    }\n",
       "</style>\n",
       "<table border=\"1\" class=\"dataframe\">\n",
       "  <thead>\n",
       "    <tr style=\"text-align: right;\">\n",
       "      <th></th>\n",
       "      <th>date</th>\n",
       "      <th>high</th>\n",
       "      <th>low</th>\n",
       "      <th>open</th>\n",
       "      <th>close</th>\n",
       "      <th>volume</th>\n",
       "      <th>quoteVolume</th>\n",
       "      <th>weightedAverage</th>\n",
       "    </tr>\n",
       "  </thead>\n",
       "  <tbody>\n",
       "    <tr>\n",
       "      <th>0</th>\n",
       "      <td>1424304000</td>\n",
       "      <td>244.000</td>\n",
       "      <td>225.00</td>\n",
       "      <td>225.000000</td>\n",
       "      <td>0.003428</td>\n",
       "      <td>46.276313</td>\n",
       "      <td>0.193117</td>\n",
       "      <td>239.627778</td>\n",
       "    </tr>\n",
       "    <tr>\n",
       "      <th>1</th>\n",
       "      <td>1424390400</td>\n",
       "      <td>245.000</td>\n",
       "      <td>240.25</td>\n",
       "      <td>240.250118</td>\n",
       "      <td>0.003231</td>\n",
       "      <td>55.894897</td>\n",
       "      <td>0.230429</td>\n",
       "      <td>242.568479</td>\n",
       "    </tr>\n",
       "    <tr>\n",
       "      <th>2</th>\n",
       "      <td>1424476800</td>\n",
       "      <td>245.000</td>\n",
       "      <td>245.00</td>\n",
       "      <td>245.000000</td>\n",
       "      <td>0.003480</td>\n",
       "      <td>14.722239</td>\n",
       "      <td>0.060091</td>\n",
       "      <td>245.000000</td>\n",
       "    </tr>\n",
       "    <tr>\n",
       "      <th>3</th>\n",
       "      <td>1424563200</td>\n",
       "      <td>249.000</td>\n",
       "      <td>235.00</td>\n",
       "      <td>245.000000</td>\n",
       "      <td>0.002955</td>\n",
       "      <td>129.121248</td>\n",
       "      <td>0.539055</td>\n",
       "      <td>239.532608</td>\n",
       "    </tr>\n",
       "    <tr>\n",
       "      <th>4</th>\n",
       "      <td>1424649600</td>\n",
       "      <td>235.001</td>\n",
       "      <td>235.00</td>\n",
       "      <td>235.000002</td>\n",
       "      <td>0.002955</td>\n",
       "      <td>96.567562</td>\n",
       "      <td>0.410926</td>\n",
       "      <td>235.000062</td>\n",
       "    </tr>\n",
       "  </tbody>\n",
       "</table>\n",
       "</div>"
      ],
      "text/plain": [
       "         date     high     low        open     close      volume  quoteVolume  \\\n",
       "0  1424304000  244.000  225.00  225.000000  0.003428   46.276313     0.193117   \n",
       "1  1424390400  245.000  240.25  240.250118  0.003231   55.894897     0.230429   \n",
       "2  1424476800  245.000  245.00  245.000000  0.003480   14.722239     0.060091   \n",
       "3  1424563200  249.000  235.00  245.000000  0.002955  129.121248     0.539055   \n",
       "4  1424649600  235.001  235.00  235.000002  0.002955   96.567562     0.410926   \n",
       "\n",
       "   weightedAverage  \n",
       "0       239.627778  \n",
       "1       242.568479  \n",
       "2       245.000000  \n",
       "3       239.532608  \n",
       "4       235.000062  "
      ]
     },
     "execution_count": 41,
     "metadata": {},
     "output_type": "execute_result"
    }
   ],
   "source": [
    "df.head()"
   ]
  },
  {
   "cell_type": "code",
   "execution_count": 42,
   "metadata": {},
   "outputs": [],
   "source": [
    "price = df['close']"
   ]
  },
  {
   "cell_type": "code",
   "execution_count": 43,
   "metadata": {},
   "outputs": [
    {
     "data": {
      "text/plain": [
       "0    0.003428\n",
       "1    0.003231\n",
       "2    0.003480\n",
       "3    0.002955\n",
       "4    0.002955\n",
       "5    0.003205\n",
       "6    0.003100\n",
       "7    0.003139\n",
       "8    0.003690\n",
       "9    0.003218\n",
       "Name: close, dtype: float64"
      ]
     },
     "execution_count": 43,
     "metadata": {},
     "output_type": "execute_result"
    }
   ],
   "source": [
    "price[:10]"
   ]
  },
  {
   "cell_type": "code",
   "execution_count": 44,
   "metadata": {},
   "outputs": [],
   "source": [
    "window_size = 5"
   ]
  },
  {
   "cell_type": "code",
   "execution_count": 45,
   "metadata": {},
   "outputs": [],
   "source": [
    "X = []\n",
    "Y = []"
   ]
  },
  {
   "cell_type": "code",
   "execution_count": 46,
   "metadata": {},
   "outputs": [],
   "source": [
    "for i in range(len(price) - window_size):  # 2014 - 5 ==> 2009\n",
    "    X.append( price.iloc[i:i+window_size] )  # 예) 0:5 ==> 0,1,2,3,4\n",
    "    Y.append( price.iloc[i+window_size] )    # 예) 0+5 ==> 5"
   ]
  },
  {
   "cell_type": "code",
   "execution_count": 47,
   "metadata": {},
   "outputs": [],
   "source": [
    "X = np.array(X)\n",
    "Y = np.array(Y)"
   ]
  },
  {
   "cell_type": "code",
   "execution_count": 48,
   "metadata": {},
   "outputs": [
    {
     "data": {
      "text/plain": [
       "((2009, 5), (2009,))"
      ]
     },
     "execution_count": 48,
     "metadata": {},
     "output_type": "execute_result"
    }
   ],
   "source": [
    "X.shape, Y.shape"
   ]
  },
  {
   "cell_type": "code",
   "execution_count": 49,
   "metadata": {},
   "outputs": [
    {
     "data": {
      "text/plain": [
       "array([0.00342784, 0.00323093, 0.00348035, 0.00295525, 0.00295525])"
      ]
     },
     "execution_count": 49,
     "metadata": {},
     "output_type": "execute_result"
    }
   ],
   "source": [
    "X[0]"
   ]
  },
  {
   "cell_type": "code",
   "execution_count": 50,
   "metadata": {},
   "outputs": [
    {
     "data": {
      "text/plain": [
       "0.0032046727572156808"
      ]
     },
     "execution_count": 50,
     "metadata": {},
     "output_type": "execute_result"
    }
   ],
   "source": [
    "Y[0]"
   ]
  },
  {
   "cell_type": "code",
   "execution_count": 51,
   "metadata": {},
   "outputs": [
    {
     "data": {
      "text/plain": [
       "2009"
      ]
     },
     "execution_count": 51,
     "metadata": {},
     "output_type": "execute_result"
    }
   ],
   "source": [
    "len(X)  # 2009"
   ]
  },
  {
   "cell_type": "code",
   "execution_count": 52,
   "metadata": {},
   "outputs": [],
   "source": [
    "split_val = len(X) - 209  # 2009 - 209 ==> 1800"
   ]
  },
  {
   "cell_type": "code",
   "execution_count": 53,
   "metadata": {},
   "outputs": [],
   "source": [
    "X_train = X[:split_val, :]\n",
    "y_train = Y[:split_val]"
   ]
  },
  {
   "cell_type": "code",
   "execution_count": 54,
   "metadata": {},
   "outputs": [],
   "source": [
    "X_test = X[split_val:, :]\n",
    "y_test = Y[split_val:]"
   ]
  },
  {
   "cell_type": "code",
   "execution_count": 55,
   "metadata": {},
   "outputs": [
    {
     "data": {
      "text/plain": [
       "((1800, 5), (1800,), (209, 5), (209,))"
      ]
     },
     "execution_count": 55,
     "metadata": {},
     "output_type": "execute_result"
    }
   ],
   "source": [
    "X_train.shape, y_train.shape, X_test.shape, y_test.shape"
   ]
  },
  {
   "cell_type": "code",
   "execution_count": 56,
   "metadata": {},
   "outputs": [],
   "source": [
    "# reshape\n",
    "X_train = np.reshape(X_train, (X_train.shape[0], window_size, 1))\n",
    "X_test = np.reshape(X_test, (X_test.shape[0], window_size, 1))"
   ]
  },
  {
   "cell_type": "code",
   "execution_count": 57,
   "metadata": {},
   "outputs": [
    {
     "data": {
      "text/plain": [
       "((1800, 5, 1), (1800,), (209, 5, 1), (209,))"
      ]
     },
     "execution_count": 57,
     "metadata": {},
     "output_type": "execute_result"
    }
   ],
   "source": [
    "X_train.shape, y_train.shape, X_test.shape, y_test.shape"
   ]
  },
  {
   "cell_type": "code",
   "execution_count": 58,
   "metadata": {},
   "outputs": [],
   "source": [
    "model = Sequential()"
   ]
  },
  {
   "cell_type": "code",
   "execution_count": 59,
   "metadata": {},
   "outputs": [],
   "source": [
    "model.add(LSTM(128, input_shape=(5, 1)))  # (feature의_수, dimension)\n",
    "model.add(Dropout(0.2))\n",
    "model.add(Dense(1, activation='linear'))"
   ]
  },
  {
   "cell_type": "code",
   "execution_count": 60,
   "metadata": {},
   "outputs": [],
   "source": [
    "model.compile(loss='mse', optimizer='adam')"
   ]
  },
  {
   "cell_type": "code",
   "execution_count": 61,
   "metadata": {},
   "outputs": [
    {
     "name": "stdout",
     "output_type": "stream",
     "text": [
      "_________________________________________________________________\n",
      "Layer (type)                 Output Shape              Param #   \n",
      "=================================================================\n",
      "lstm_1 (LSTM)                (None, 128)               66560     \n",
      "_________________________________________________________________\n",
      "dropout_1 (Dropout)          (None, 128)               0         \n",
      "_________________________________________________________________\n",
      "dense_5 (Dense)              (None, 1)                 129       \n",
      "=================================================================\n",
      "Total params: 66,689\n",
      "Trainable params: 66,689\n",
      "Non-trainable params: 0\n",
      "_________________________________________________________________\n"
     ]
    }
   ],
   "source": [
    "model.summary()"
   ]
  },
  {
   "cell_type": "code",
   "execution_count": 62,
   "metadata": {},
   "outputs": [
    {
     "name": "stdout",
     "output_type": "stream",
     "text": [
      "Epoch 1/3\n",
      "1800/1800 [==============================] - 11s 6ms/step - loss: 0.0019\n",
      "Epoch 2/3\n",
      "1800/1800 [==============================] - 11s 6ms/step - loss: 0.0011\n",
      "Epoch 3/3\n",
      "1800/1800 [==============================] - 10s 6ms/step - loss: 9.9201e-04\n",
      "Wall time: 33.8 s\n"
     ]
    },
    {
     "data": {
      "text/plain": [
       "<keras.callbacks.History at 0x206bfd77848>"
      ]
     },
     "execution_count": 62,
     "metadata": {},
     "output_type": "execute_result"
    }
   ],
   "source": [
    "%%time\n",
    "model.fit(X_train, y_train, epochs=3, batch_size=1)"
   ]
  },
  {
   "cell_type": "code",
   "execution_count": 63,
   "metadata": {},
   "outputs": [],
   "source": [
    "train_predict = model.predict(X_train)"
   ]
  },
  {
   "cell_type": "code",
   "execution_count": 64,
   "metadata": {},
   "outputs": [],
   "source": [
    "test_predict = model.predict(X_test)"
   ]
  },
  {
   "cell_type": "code",
   "execution_count": 65,
   "metadata": {},
   "outputs": [
    {
     "data": {
      "image/png": "[encoded data removed]",
      "text/plain": [
       "<Figure size 1080x720 with 1 Axes>"
      ]
     },
     "metadata": {
      "needs_background": "light"
     },
     "output_type": "display_data"
    }
   ],
   "source": [
    "plt.figure(figsize=(15,10))\n",
    "plt.plot(price, color='blue')\n",
    "split_pt = split_val + window_size  # 1800 + 5 ==> 1805\n",
    "plt.plot(np.arange(window_size, split_pt, 1), train_predict, color='orange')\n",
    "plt.plot(np.arange(split_pt, split_pt+len(test_predict),1), test_predict, color='green')\n",
    "plt.show()"
   ]
  },
  {
   "cell_type": "code",
   "execution_count": 66,
   "metadata": {},
   "outputs": [],
   "source": [
    "# ! conda install -c plotly plotly=4.9.0 -y\n",
    "# ! pip install plotly==4.9.0"
   ]
  },
  {
   "cell_type": "code",
   "execution_count": null,
   "metadata": {},
   "outputs": [],
   "source": [
    "# end"
   ]
  }
 ],
 "metadata": {
  "kernelspec": {
   "display_name": "Python 3",
   "language": "python",
   "name": "python3"
  },
  "language_info": {
   "codemirror_mode": {
    "name": "ipython",
    "version": 3
   },
   "file_extension": ".py",
   "mimetype": "text/x-python",
   "name": "python",
   "nbconvert_exporter": "python",
   "pygments_lexer": "ipython3",
   "version": "3.7.6"
  }
 },
 "nbformat": 4,
 "nbformat_minor": 4
}
