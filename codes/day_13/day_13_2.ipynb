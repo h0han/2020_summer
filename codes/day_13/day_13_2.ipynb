{
 "cells": [
  {
   "cell_type": "code",
   "execution_count": 1,
   "metadata": {},
   "outputs": [],
   "source": [
    "%matplotlib inline\n",
    "import matplotlib.pyplot as plt\n",
    "import seaborn as sns\n",
    "import numpy as np\n",
    "import pandas as pd"
   ]
  },
  {
   "cell_type": "code",
   "execution_count": 2,
   "metadata": {},
   "outputs": [],
   "source": [
    "import tensorflow as tf"
   ]
  },
  {
   "cell_type": "code",
   "execution_count": 3,
   "metadata": {},
   "outputs": [],
   "source": [
    "from tensorflow import keras"
   ]
  },
  {
   "cell_type": "code",
   "execution_count": 4,
   "metadata": {},
   "outputs": [],
   "source": [
    "keras.backend.clear_session()\n",
    "np.random.seed(42)\n",
    "tf.random.set_seed(42)"
   ]
  },
  {
   "cell_type": "code",
   "execution_count": 5,
   "metadata": {},
   "outputs": [],
   "source": [
    "fashion_mnist = keras.datasets.fashion_mnist"
   ]
  },
  {
   "cell_type": "code",
   "execution_count": 6,
   "metadata": {},
   "outputs": [],
   "source": [
    "(X_train_full, y_train_full), (X_test, y_test) = fashion_mnist.load_data()"
   ]
  },
  {
   "cell_type": "code",
   "execution_count": 7,
   "metadata": {},
   "outputs": [
    {
     "data": {
      "text/plain": [
       "(60000, 28, 28)"
      ]
     },
     "execution_count": 7,
     "metadata": {},
     "output_type": "execute_result"
    }
   ],
   "source": [
    "X_train_full.shape"
   ]
  },
  {
   "cell_type": "code",
   "execution_count": 8,
   "metadata": {},
   "outputs": [
    {
     "data": {
      "text/plain": [
       "dtype('uint8')"
      ]
     },
     "execution_count": 8,
     "metadata": {},
     "output_type": "execute_result"
    }
   ],
   "source": [
    "X_train_full.dtype"
   ]
  },
  {
   "cell_type": "code",
   "execution_count": 9,
   "metadata": {},
   "outputs": [],
   "source": [
    "X_valid, X_train = X_train_full[:5000] / 255.0, X_train_full[5000:] / 255.0"
   ]
  },
  {
   "cell_type": "code",
   "execution_count": 10,
   "metadata": {},
   "outputs": [],
   "source": [
    "y_valid, y_train = y_train_full[:5000], y_train_full[5000:]"
   ]
  },
  {
   "cell_type": "code",
   "execution_count": 11,
   "metadata": {},
   "outputs": [],
   "source": [
    "X_test = X_test / 255.0"
   ]
  },
  {
   "cell_type": "code",
   "execution_count": 12,
   "metadata": {},
   "outputs": [],
   "source": [
    "pixel_means = X_train.mean(axis=0, keepdims=True)"
   ]
  },
  {
   "cell_type": "code",
   "execution_count": 13,
   "metadata": {},
   "outputs": [],
   "source": [
    "pixel_stds = X_train.std(axis=0, keepdims=True)"
   ]
  },
  {
   "cell_type": "code",
   "execution_count": 14,
   "metadata": {},
   "outputs": [],
   "source": [
    "X_train_scaled = (X_train - pixel_means) / pixel_stds"
   ]
  },
  {
   "cell_type": "code",
   "execution_count": 15,
   "metadata": {},
   "outputs": [],
   "source": [
    "X_valid_scaled = (X_valid - pixel_means) / pixel_stds"
   ]
  },
  {
   "cell_type": "code",
   "execution_count": 16,
   "metadata": {},
   "outputs": [],
   "source": [
    "X_test_scaled = (X_test - pixel_means) / pixel_stds"
   ]
  },
  {
   "cell_type": "code",
   "execution_count": 17,
   "metadata": {},
   "outputs": [],
   "source": [
    "# 학습률 스케쥴링"
   ]
  },
  {
   "cell_type": "code",
   "execution_count": 18,
   "metadata": {},
   "outputs": [],
   "source": [
    "optimizer = keras.optimizers.SGD(lr=0.01, decay=1e-4) # 1e-4 = 0.0001"
   ]
  },
  {
   "cell_type": "code",
   "execution_count": 19,
   "metadata": {},
   "outputs": [],
   "source": [
    "model = keras.models.Sequential([\n",
    "    keras.layers.Flatten(input_shape=[28, 28]),\n",
    "    keras.layers.Dense(300, activation='selu', kernel_initializer='lecun_normal'),\n",
    "    keras.layers.Dense(100, activation='selu', kernel_initializer='lecun_normal'),\n",
    "    keras.layers.Dense(10, activation='softmax')\n",
    "])"
   ]
  },
  {
   "cell_type": "code",
   "execution_count": 20,
   "metadata": {},
   "outputs": [],
   "source": [
    "model.compile(loss='sparse_categorical_crossentropy', optimizer=optimizer,\n",
    "             metrics=['accuracy'])"
   ]
  },
  {
   "cell_type": "code",
   "execution_count": 21,
   "metadata": {},
   "outputs": [
    {
     "name": "stdout",
     "output_type": "stream",
     "text": [
      "Train on 55000 samples, validate on 5000 samples\n",
      "Epoch 1/25\n",
      "55000/55000 [==============================] - 8s 146us/sample - loss: 0.4868 - accuracy: 0.8297 - val_loss: 0.4128 - val_accuracy: 0.8552\n",
      "Epoch 2/25\n",
      "55000/55000 [==============================] - 7s 125us/sample - loss: 0.3813 - accuracy: 0.8644 - val_loss: 0.3785 - val_accuracy: 0.8712\n",
      "Epoch 3/25\n",
      "55000/55000 [==============================] - 7s 126us/sample - loss: 0.3492 - accuracy: 0.8757 - val_loss: 0.3724 - val_accuracy: 0.8720\n",
      "Epoch 4/25\n",
      "55000/55000 [==============================] - 7s 125us/sample - loss: 0.3288 - accuracy: 0.8833 - val_loss: 0.3576 - val_accuracy: 0.8722\n",
      "Epoch 5/25\n",
      "55000/55000 [==============================] - 7s 125us/sample - loss: 0.3126 - accuracy: 0.8894 - val_loss: 0.3476 - val_accuracy: 0.8762\n",
      "Epoch 6/25\n",
      "55000/55000 [==============================] - 7s 126us/sample - loss: 0.3002 - accuracy: 0.8937 - val_loss: 0.3475 - val_accuracy: 0.8770\n",
      "Epoch 7/25\n",
      "55000/55000 [==============================] - 7s 126us/sample - loss: 0.2892 - accuracy: 0.8977 - val_loss: 0.3419 - val_accuracy: 0.8802\n",
      "Epoch 8/25\n",
      "55000/55000 [==============================] - 7s 126us/sample - loss: 0.2806 - accuracy: 0.9002 - val_loss: 0.3382 - val_accuracy: 0.8808\n",
      "Epoch 9/25\n",
      "55000/55000 [==============================] - 7s 126us/sample - loss: 0.2725 - accuracy: 0.9027 - val_loss: 0.3338 - val_accuracy: 0.8840\n",
      "Epoch 10/25\n",
      "55000/55000 [==============================] - 7s 126us/sample - loss: 0.2654 - accuracy: 0.9062 - val_loss: 0.3395 - val_accuracy: 0.8804\n",
      "Epoch 11/25\n",
      "55000/55000 [==============================] - 7s 126us/sample - loss: 0.2592 - accuracy: 0.9082 - val_loss: 0.3309 - val_accuracy: 0.8828\n",
      "Epoch 12/25\n",
      "55000/55000 [==============================] - 7s 128us/sample - loss: 0.2535 - accuracy: 0.9099 - val_loss: 0.3302 - val_accuracy: 0.8846\n",
      "Epoch 13/25\n",
      "55000/55000 [==============================] - 7s 132us/sample - loss: 0.2483 - accuracy: 0.9123 - val_loss: 0.3299 - val_accuracy: 0.8858\n",
      "Epoch 14/25\n",
      "55000/55000 [==============================] - 7s 127us/sample - loss: 0.2437 - accuracy: 0.9138 - val_loss: 0.3303 - val_accuracy: 0.8850\n",
      "Epoch 15/25\n",
      "55000/55000 [==============================] - 7s 127us/sample - loss: 0.2392 - accuracy: 0.9163 - val_loss: 0.3264 - val_accuracy: 0.8850\n",
      "Epoch 16/25\n",
      "55000/55000 [==============================] - 7s 127us/sample - loss: 0.2348 - accuracy: 0.9177 - val_loss: 0.3277 - val_accuracy: 0.8860\n",
      "Epoch 17/25\n",
      "55000/55000 [==============================] - 7s 127us/sample - loss: 0.2313 - accuracy: 0.9191 - val_loss: 0.3240 - val_accuracy: 0.8870\n",
      "Epoch 18/25\n",
      "55000/55000 [==============================] - 7s 129us/sample - loss: 0.2274 - accuracy: 0.9207 - val_loss: 0.3257 - val_accuracy: 0.8872\n",
      "Epoch 19/25\n",
      "55000/55000 [==============================] - 7s 127us/sample - loss: 0.2241 - accuracy: 0.9212 - val_loss: 0.3266 - val_accuracy: 0.8866\n",
      "Epoch 20/25\n",
      "55000/55000 [==============================] - 7s 129us/sample - loss: 0.2208 - accuracy: 0.9235 - val_loss: 0.3247 - val_accuracy: 0.8862\n",
      "Epoch 21/25\n",
      "55000/55000 [==============================] - 7s 128us/sample - loss: 0.2180 - accuracy: 0.9233 - val_loss: 0.3226 - val_accuracy: 0.8878\n",
      "Epoch 22/25\n",
      "55000/55000 [==============================] - 7s 127us/sample - loss: 0.2149 - accuracy: 0.9255 - val_loss: 0.3240 - val_accuracy: 0.8870\n",
      "Epoch 23/25\n",
      "55000/55000 [==============================] - 7s 128us/sample - loss: 0.2122 - accuracy: 0.9261 - val_loss: 0.3229 - val_accuracy: 0.8864\n",
      "Epoch 24/25\n",
      "55000/55000 [==============================] - 7s 128us/sample - loss: 0.2093 - accuracy: 0.9275 - val_loss: 0.3240 - val_accuracy: 0.8876\n",
      "Epoch 25/25\n",
      "55000/55000 [==============================] - 7s 128us/sample - loss: 0.2072 - accuracy: 0.9291 - val_loss: 0.3223 - val_accuracy: 0.8886\n",
      "Wall time: 2min 55s\n"
     ]
    }
   ],
   "source": [
    "%%time\n",
    "n_epochs = 25\n",
    "hist = model.fit(X_train_scaled, y_train, epochs=n_epochs,\n",
    "                 validation_data=(X_valid_scaled, y_valid))"
   ]
  },
  {
   "cell_type": "code",
   "execution_count": 29,
   "metadata": {},
   "outputs": [
    {
     "name": "stdout",
     "output_type": "stream",
     "text": [
      "[0.01       0.00853388 0.00744269 0.00659892 0.00592698 0.00537924\n",
      " 0.00492417 0.00454009 0.00421159 0.00392742 0.00367918 0.00346045\n",
      " 0.00326627 0.00309272 0.00293669 0.00279564 0.00266752 0.00255063\n",
      " 0.00244355 0.00234511 0.00225428 0.00217023 0.00209223 0.00201963\n",
      " 0.00195191]\n"
     ]
    }
   ],
   "source": [
    "learning_rate = 0.01\n",
    "decay = 1e-4  # 0.0001\n",
    "batch_size = 32\n",
    "n_steps_per_epoch = len(X_train) // batch_size  # 55000 // 32 ==> 1718\n",
    "epochs = np.arange(n_epochs)  # n_epochs=25, np.arange ==> [0, ..., 24]\n",
    "lrs = learning_rate / (1 + decay * epochs * n_steps_per_epoch)\n",
    "print( lrs )"
   ]
  },
  {
   "cell_type": "code",
   "execution_count": 38,
   "metadata": {},
   "outputs": [
    {
     "data": {
      "image/png": "[encoded data removed]",
      "text/plain": [
       "<Figure size 432x288 with 1 Axes>"
      ]
     },
     "metadata": {
      "needs_background": "light"
     },
     "output_type": "display_data"
    }
   ],
   "source": [
    "plt.plot(epochs, lrs, \"o-\")\n",
    "plt.axis([0, n_epochs - 1, 0, 0.01])\n",
    "plt.xlabel(\"Epoch\")\n",
    "plt.ylabel(\"Learning Rate\")\n",
    "plt.title(\"Power Scheduling\", fontsize=14)\n",
    "plt.grid(True)\n",
    "plt.show()"
   ]
  },
  {
   "cell_type": "code",
   "execution_count": 39,
   "metadata": {},
   "outputs": [],
   "source": [
    "# 지수 기반 스케줄링"
   ]
  },
  {
   "cell_type": "code",
   "execution_count": 40,
   "metadata": {},
   "outputs": [],
   "source": [
    "def exponential_decay_fn(epoch):\n",
    "    return 0.01 * 0.1**(epoch/20)"
   ]
  },
  {
   "cell_type": "code",
   "execution_count": null,
   "metadata": {},
   "outputs": [],
   "source": [
    "# lr = lr0 * 0.1**(epoch/s)"
   ]
  },
  {
   "cell_type": "code",
   "execution_count": 41,
   "metadata": {},
   "outputs": [],
   "source": [
    "def exponential_decay(lr0, s):\n",
    "    def exponential_decay_fn(epoch):\n",
    "        return lr0 * 0.01**(epoch/s)\n",
    "    return exponential_decay_fn"
   ]
  },
  {
   "cell_type": "code",
   "execution_count": 42,
   "metadata": {},
   "outputs": [],
   "source": [
    "exponential_decay_fn = exponential_decay(lr0=0.01, s=20)"
   ]
  },
  {
   "cell_type": "code",
   "execution_count": 43,
   "metadata": {},
   "outputs": [],
   "source": [
    "model = keras.models.Sequential([\n",
    "    keras.layers.Flatten(input_shape=[28, 28]),\n",
    "    keras.layers.Dense(300, activation='selu', kernel_initializer='lecun_normal'),\n",
    "    keras.layers.Dense(100, activation='selu', kernel_initializer='lecun_normal'),\n",
    "    keras.layers.Dense(10, activation='softmax')\n",
    "])\n",
    "model.compile(loss=\"sparse_categorical_crossentropy\", optimizer=\"nadam\",\n",
    "              metrics=['accuracy'])\n",
    "n_epochs = 25"
   ]
  },
  {
   "cell_type": "code",
   "execution_count": 44,
   "metadata": {},
   "outputs": [],
   "source": [
    "lr_scheduler = keras.callbacks.LearningRateScheduler(exponential_decay_fn)"
   ]
  },
  {
   "cell_type": "code",
   "execution_count": 46,
   "metadata": {},
   "outputs": [
    {
     "name": "stdout",
     "output_type": "stream",
     "text": [
      "Train on 55000 samples, validate on 5000 samples\n",
      "Epoch 1/25\n",
      "55000/55000 [==============================] - 13s 237us/sample - loss: 0.8518 - accuracy: 0.7528 - val_loss: 0.8953 - val_accuracy: 0.7790\n",
      "Epoch 2/25\n",
      "55000/55000 [==============================] - 11s 208us/sample - loss: 0.6061 - accuracy: 0.8084 - val_loss: 0.6069 - val_accuracy: 0.8206\n",
      "Epoch 3/25\n",
      "55000/55000 [==============================] - 12s 210us/sample - loss: 0.5080 - accuracy: 0.8349 - val_loss: 0.5936 - val_accuracy: 0.8246\n",
      "Epoch 4/25\n",
      "55000/55000 [==============================] - 11s 208us/sample - loss: 0.4358 - accuracy: 0.8559 - val_loss: 0.5082 - val_accuracy: 0.8370\n",
      "Epoch 5/25\n",
      "55000/55000 [==============================] - 11s 208us/sample - loss: 0.3830 - accuracy: 0.8694 - val_loss: 0.4851 - val_accuracy: 0.8662\n",
      "Epoch 6/25\n",
      "55000/55000 [==============================] - 11s 208us/sample - loss: 0.3416 - accuracy: 0.8825 - val_loss: 0.4137 - val_accuracy: 0.8684\n",
      "Epoch 7/25\n",
      "55000/55000 [==============================] - 13s 228us/sample - loss: 0.3030 - accuracy: 0.8931 - val_loss: 0.3932 - val_accuracy: 0.8744\n",
      "Epoch 8/25\n",
      "55000/55000 [==============================] - 12s 213us/sample - loss: 0.2757 - accuracy: 0.9018 - val_loss: 0.3973 - val_accuracy: 0.8704\n",
      "Epoch 9/25\n",
      "55000/55000 [==============================] - 12s 210us/sample - loss: 0.2444 - accuracy: 0.9114 - val_loss: 0.3807 - val_accuracy: 0.8870\n",
      "Epoch 10/25\n",
      "55000/55000 [==============================] - 12s 216us/sample - loss: 0.2201 - accuracy: 0.9204 - val_loss: 0.4033 - val_accuracy: 0.8842\n",
      "Epoch 11/25\n",
      "55000/55000 [==============================] - 12s 210us/sample - loss: 0.2031 - accuracy: 0.9268 - val_loss: 0.3953 - val_accuracy: 0.8908\n",
      "Epoch 12/25\n",
      "55000/55000 [==============================] - 12s 211us/sample - loss: 0.1834 - accuracy: 0.9334 - val_loss: 0.4100 - val_accuracy: 0.8936\n",
      "Epoch 13/25\n",
      "55000/55000 [==============================] - 12s 214us/sample - loss: 0.1676 - accuracy: 0.9399 - val_loss: 0.4117 - val_accuracy: 0.8942\n",
      "Epoch 14/25\n",
      "55000/55000 [==============================] - 12s 211us/sample - loss: 0.1545 - accuracy: 0.9452 - val_loss: 0.4344 - val_accuracy: 0.8924\n",
      "Epoch 15/25\n",
      "55000/55000 [==============================] - 12s 212us/sample - loss: 0.1440 - accuracy: 0.9494 - val_loss: 0.4323 - val_accuracy: 0.8930\n",
      "Epoch 16/25\n",
      "55000/55000 [==============================] - 12s 211us/sample - loss: 0.1351 - accuracy: 0.9517 - val_loss: 0.4438 - val_accuracy: 0.8914\n",
      "Epoch 17/25\n",
      "55000/55000 [==============================] - 12s 214us/sample - loss: 0.1264 - accuracy: 0.9556 - val_loss: 0.4495 - val_accuracy: 0.8946\n",
      "Epoch 18/25\n",
      "55000/55000 [==============================] - 12s 219us/sample - loss: 0.1200 - accuracy: 0.9587 - val_loss: 0.4578 - val_accuracy: 0.8958\n",
      "Epoch 19/25\n",
      "55000/55000 [==============================] - 11s 209us/sample - loss: 0.1144 - accuracy: 0.9610 - val_loss: 0.4722 - val_accuracy: 0.8944\n",
      "Epoch 20/25\n",
      "55000/55000 [==============================] - 12s 214us/sample - loss: 0.1099 - accuracy: 0.9624 - val_loss: 0.4819 - val_accuracy: 0.8942\n",
      "Epoch 21/25\n",
      "55000/55000 [==============================] - 12s 218us/sample - loss: 0.1066 - accuracy: 0.9633 - val_loss: 0.4903 - val_accuracy: 0.8948\n",
      "Epoch 22/25\n",
      "55000/55000 [==============================] - 12s 212us/sample - loss: 0.1038 - accuracy: 0.9651 - val_loss: 0.5009 - val_accuracy: 0.8930\n",
      "Epoch 23/25\n",
      "55000/55000 [==============================] - 12s 215us/sample - loss: 0.1017 - accuracy: 0.9659 - val_loss: 0.5070 - val_accuracy: 0.8930\n",
      "Epoch 24/25\n",
      "55000/55000 [==============================] - 13s 235us/sample - loss: 0.0998 - accuracy: 0.9663 - val_loss: 0.5121 - val_accuracy: 0.8920\n",
      "Epoch 25/25\n",
      "55000/55000 [==============================] - 12s 211us/sample - loss: 0.0985 - accuracy: 0.9671 - val_loss: 0.5144 - val_accuracy: 0.8944\n",
      "Wall time: 4min 55s\n"
     ]
    }
   ],
   "source": [
    "%%time\n",
    "hist = model.fit(X_train_scaled, y_train, epochs=n_epochs,\n",
    "                 validation_data=(X_valid_scaled, y_valid),\n",
    "                callbacks=[lr_scheduler])"
   ]
  },
  {
   "cell_type": "code",
   "execution_count": 47,
   "metadata": {},
   "outputs": [
    {
     "data": {
      "image/png": "[encoded data removed]",
      "text/plain": [
       "<Figure size 432x288 with 1 Axes>"
      ]
     },
     "metadata": {
      "needs_background": "light"
     },
     "output_type": "display_data"
    }
   ],
   "source": [
    "plt.plot(hist.epoch, hist.history[\"lr\"], \"o-\")\n",
    "plt.axis([0, n_epochs-1, 0, 0.011])\n",
    "plt.xlabel(\"Epoch\")\n",
    "plt.ylabel(\"Learning Rate\")\n",
    "plt.title(\"Exponential Scheduling\", fontsize=14)\n",
    "plt.grid(True)\n",
    "plt.show()"
   ]
  },
  {
   "cell_type": "code",
   "execution_count": null,
   "metadata": {},
   "outputs": [],
   "source": []
  },
  {
   "cell_type": "code",
   "execution_count": null,
   "metadata": {},
   "outputs": [],
   "source": []
  },
  {
   "cell_type": "code",
   "execution_count": null,
   "metadata": {},
   "outputs": [],
   "source": []
  },
  {
   "cell_type": "code",
   "execution_count": null,
   "metadata": {},
   "outputs": [],
   "source": []
  }
 ],
 "metadata": {
  "kernelspec": {
   "display_name": "Python 3",
   "language": "python",
   "name": "python3"
  },
  "language_info": {
   "codemirror_mode": {
    "name": "ipython",
    "version": 3
   },
   "file_extension": ".py",
   "mimetype": "text/x-python",
   "name": "python",
   "nbconvert_exporter": "python",
   "pygments_lexer": "ipython3",
   "version": "3.7.0"
  }
 },
 "nbformat": 4,
 "nbformat_minor": 2
}
