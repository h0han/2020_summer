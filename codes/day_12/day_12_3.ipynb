{
 "cells": [
  {
   "cell_type": "code",
   "execution_count": 1,
   "metadata": {},
   "outputs": [],
   "source": [
    "%matplotlib inline\n",
    "import matplotlib.pyplot as plt\n",
    "import seaborn as sns\n",
    "import numpy as np\n",
    "import pandas as pd"
   ]
  },
  {
   "cell_type": "code",
   "execution_count": 2,
   "metadata": {},
   "outputs": [],
   "source": [
    "import tensorflow as tf"
   ]
  },
  {
   "cell_type": "code",
   "execution_count": 3,
   "metadata": {},
   "outputs": [],
   "source": [
    "from tensorflow import keras"
   ]
  },
  {
   "cell_type": "code",
   "execution_count": 4,
   "metadata": {},
   "outputs": [],
   "source": [
    "keras.backend.clear_session()\n",
    "np.random.seed(42)\n",
    "tf.random.set_seed(42)"
   ]
  },
  {
   "cell_type": "code",
   "execution_count": 5,
   "metadata": {},
   "outputs": [],
   "source": [
    "# 초기화"
   ]
  },
  {
   "cell_type": "code",
   "execution_count": 7,
   "metadata": {},
   "outputs": [
    {
     "data": {
      "text/plain": [
       "['Constant',\n",
       " 'GlorotNormal',\n",
       " 'GlorotUniform',\n",
       " 'Identity',\n",
       " 'Initializer',\n",
       " 'Ones',\n",
       " 'Orthogonal',\n",
       " 'RandomNormal',\n",
       " 'RandomUniform',\n",
       " 'TruncatedNormal',\n",
       " 'VarianceScaling',\n",
       " 'Zeros',\n",
       " 'constant',\n",
       " 'deserialize',\n",
       " 'get',\n",
       " 'glorot_normal',\n",
       " 'glorot_uniform',\n",
       " 'he_normal',\n",
       " 'he_uniform',\n",
       " 'identity',\n",
       " 'lecun_normal',\n",
       " 'lecun_uniform',\n",
       " 'ones',\n",
       " 'orthogonal',\n",
       " 'serialize',\n",
       " 'zeros']"
      ]
     },
     "execution_count": 7,
     "metadata": {},
     "output_type": "execute_result"
    }
   ],
   "source": [
    "[ name for name in dir(keras.initializers) if not name.startswith(\"_\") ]"
   ]
  },
  {
   "cell_type": "code",
   "execution_count": 8,
   "metadata": {},
   "outputs": [
    {
     "data": {
      "text/plain": [
       "<tensorflow.python.keras.layers.core.Dense at 0x25137bc7ef0>"
      ]
     },
     "execution_count": 8,
     "metadata": {},
     "output_type": "execute_result"
    }
   ],
   "source": [
    "keras.layers.Dense(10, activation='relu', kernel_initializer='he_normal')"
   ]
  },
  {
   "cell_type": "code",
   "execution_count": 9,
   "metadata": {},
   "outputs": [
    {
     "data": {
      "text/plain": [
       "['deserialize',\n",
       " 'elu',\n",
       " 'exponential',\n",
       " 'get',\n",
       " 'hard_sigmoid',\n",
       " 'linear',\n",
       " 'relu',\n",
       " 'selu',\n",
       " 'serialize',\n",
       " 'sigmoid',\n",
       " 'softmax',\n",
       " 'softplus',\n",
       " 'softsign',\n",
       " 'tanh']"
      ]
     },
     "execution_count": 9,
     "metadata": {},
     "output_type": "execute_result"
    }
   ],
   "source": [
    "[ m for m in dir(keras.activations) if not m.startswith(\"_\") ]"
   ]
  },
  {
   "cell_type": "code",
   "execution_count": 10,
   "metadata": {},
   "outputs": [],
   "source": [
    "(X_train_full, y_train_full), (X_test, y_test) = keras.datasets.fashion_mnist.load_data()"
   ]
  },
  {
   "cell_type": "code",
   "execution_count": 11,
   "metadata": {},
   "outputs": [],
   "source": [
    "X_train_full = X_train_full / 255.0"
   ]
  },
  {
   "cell_type": "code",
   "execution_count": 12,
   "metadata": {},
   "outputs": [],
   "source": [
    "X_test = X_test / 255.0"
   ]
  },
  {
   "cell_type": "code",
   "execution_count": 13,
   "metadata": {},
   "outputs": [],
   "source": [
    "X_valid, X_train = X_train_full[:5000], X_train_full[5000:]"
   ]
  },
  {
   "cell_type": "code",
   "execution_count": 14,
   "metadata": {},
   "outputs": [],
   "source": [
    "y_valid, y_train = y_train_full[:5000], y_train_full[5000:]"
   ]
  },
  {
   "cell_type": "code",
   "execution_count": 15,
   "metadata": {},
   "outputs": [],
   "source": [
    "model = keras.models.Sequential([\n",
    "    keras.layers.Flatten(input_shape=[28, 28]),\n",
    "    keras.layers.Dense(300, kernel_initializer=\"he_normal\"),\n",
    "    keras.layers.LeakyReLU(),\n",
    "    keras.layers.Dense(100, kernel_initializer=\"he_normal\"),\n",
    "    keras.layers.LeakyReLU(),\n",
    "    keras.layers.Dense(10, activation='softmax')\n",
    "])"
   ]
  },
  {
   "cell_type": "code",
   "execution_count": 16,
   "metadata": {},
   "outputs": [],
   "source": [
    "model.compile(loss='sparse_categorical_crossentropy',\n",
    "             optimizer=keras.optimizers.SGD(lr=1e-3),\n",
    "             metrics=['accuracy'])"
   ]
  },
  {
   "cell_type": "code",
   "execution_count": 17,
   "metadata": {},
   "outputs": [
    {
     "name": "stdout",
     "output_type": "stream",
     "text": [
      "Train on 55000 samples, validate on 5000 samples\n",
      "Epoch 1/30\n",
      "55000/55000 [==============================] - 7s 135us/sample - loss: 1.2810 - accuracy: 0.6205 - val_loss: 0.8869 - val_accuracy: 0.7160\n",
      "Epoch 2/30\n",
      "55000/55000 [==============================] - 7s 119us/sample - loss: 0.7952 - accuracy: 0.7369 - val_loss: 0.7132 - val_accuracy: 0.7626\n",
      "Epoch 3/30\n",
      "55000/55000 [==============================] - 7s 120us/sample - loss: 0.6817 - accuracy: 0.7726 - val_loss: 0.6385 - val_accuracy: 0.7896\n",
      "Epoch 4/30\n",
      "55000/55000 [==============================] - 7s 120us/sample - loss: 0.6219 - accuracy: 0.7941 - val_loss: 0.5931 - val_accuracy: 0.8016\n",
      "Epoch 5/30\n",
      "55000/55000 [==============================] - 7s 120us/sample - loss: 0.5829 - accuracy: 0.8074 - val_loss: 0.5607 - val_accuracy: 0.8164\n",
      "Epoch 6/30\n",
      "55000/55000 [==============================] - 7s 120us/sample - loss: 0.5552 - accuracy: 0.8173 - val_loss: 0.5355 - val_accuracy: 0.8238\n",
      "Epoch 7/30\n",
      "55000/55000 [==============================] - 7s 124us/sample - loss: 0.5338 - accuracy: 0.8225 - val_loss: 0.5166 - val_accuracy: 0.8300\n",
      "Epoch 8/30\n",
      "55000/55000 [==============================] - 7s 122us/sample - loss: 0.5172 - accuracy: 0.8261 - val_loss: 0.5043 - val_accuracy: 0.8356\n",
      "Epoch 9/30\n",
      "55000/55000 [==============================] - 7s 122us/sample - loss: 0.5039 - accuracy: 0.8305 - val_loss: 0.4889 - val_accuracy: 0.8386\n",
      "Epoch 10/30\n",
      "55000/55000 [==============================] - 7s 126us/sample - loss: 0.4923 - accuracy: 0.8333 - val_loss: 0.4816 - val_accuracy: 0.8394\n",
      "Epoch 11/30\n",
      "55000/55000 [==============================] - 7s 122us/sample - loss: 0.4826 - accuracy: 0.8357 - val_loss: 0.4707 - val_accuracy: 0.8452\n",
      "Epoch 12/30\n",
      "55000/55000 [==============================] - 7s 124us/sample - loss: 0.4744 - accuracy: 0.8381 - val_loss: 0.4641 - val_accuracy: 0.8466\n",
      "Epoch 13/30\n",
      "55000/55000 [==============================] - 7s 122us/sample - loss: 0.4668 - accuracy: 0.8394 - val_loss: 0.4571 - val_accuracy: 0.8472\n",
      "Epoch 14/30\n",
      "55000/55000 [==============================] - 7s 122us/sample - loss: 0.4603 - accuracy: 0.8419 - val_loss: 0.4532 - val_accuracy: 0.8498\n",
      "Epoch 15/30\n",
      "55000/55000 [==============================] - 7s 122us/sample - loss: 0.4548 - accuracy: 0.8437 - val_loss: 0.4455 - val_accuracy: 0.8526\n",
      "Epoch 16/30\n",
      "55000/55000 [==============================] - 7s 123us/sample - loss: 0.4496 - accuracy: 0.8451 - val_loss: 0.4425 - val_accuracy: 0.8508\n",
      "Epoch 17/30\n",
      "55000/55000 [==============================] - 7s 128us/sample - loss: 0.4447 - accuracy: 0.8464 - val_loss: 0.4392 - val_accuracy: 0.8536\n",
      "Epoch 18/30\n",
      "55000/55000 [==============================] - 7s 127us/sample - loss: 0.4401 - accuracy: 0.8470 - val_loss: 0.4337 - val_accuracy: 0.8546\n",
      "Epoch 19/30\n",
      "55000/55000 [==============================] - 7s 124us/sample - loss: 0.4361 - accuracy: 0.8487 - val_loss: 0.4329 - val_accuracy: 0.8530\n",
      "Epoch 20/30\n",
      "55000/55000 [==============================] - 7s 124us/sample - loss: 0.4323 - accuracy: 0.8505 - val_loss: 0.4282 - val_accuracy: 0.8560\n",
      "Epoch 21/30\n",
      "55000/55000 [==============================] - 7s 132us/sample - loss: 0.4289 - accuracy: 0.8508 - val_loss: 0.4265 - val_accuracy: 0.8558\n",
      "Epoch 22/30\n",
      "55000/55000 [==============================] - 7s 126us/sample - loss: 0.4251 - accuracy: 0.8523 - val_loss: 0.4260 - val_accuracy: 0.8576\n",
      "Epoch 23/30\n",
      "55000/55000 [==============================] - 7s 126us/sample - loss: 0.4221 - accuracy: 0.8520 - val_loss: 0.4195 - val_accuracy: 0.8580\n",
      "Epoch 24/30\n",
      "55000/55000 [==============================] - 7s 130us/sample - loss: 0.4193 - accuracy: 0.8545 - val_loss: 0.4162 - val_accuracy: 0.8580\n",
      "Epoch 25/30\n",
      "55000/55000 [==============================] - 7s 136us/sample - loss: 0.4165 - accuracy: 0.8560 - val_loss: 0.4158 - val_accuracy: 0.8566\n",
      "Epoch 26/30\n",
      "55000/55000 [==============================] - 7s 125us/sample - loss: 0.4139 - accuracy: 0.8559 - val_loss: 0.4153 - val_accuracy: 0.8616\n",
      "Epoch 27/30\n",
      "55000/55000 [==============================] - 7s 125us/sample - loss: 0.4109 - accuracy: 0.8568 - val_loss: 0.4107 - val_accuracy: 0.8604\n",
      "Epoch 28/30\n",
      "55000/55000 [==============================] - 7s 124us/sample - loss: 0.4086 - accuracy: 0.8581 - val_loss: 0.4098 - val_accuracy: 0.8636\n",
      "Epoch 29/30\n",
      "55000/55000 [==============================] - 7s 124us/sample - loss: 0.4064 - accuracy: 0.8589 - val_loss: 0.4072 - val_accuracy: 0.8628\n",
      "Epoch 30/30\n",
      "55000/55000 [==============================] - 7s 124us/sample - loss: 0.4040 - accuracy: 0.8596 - val_loss: 0.4066 - val_accuracy: 0.8600\n"
     ]
    }
   ],
   "source": [
    "hist = model.fit(X_train, y_train, epochs=30, validation_data=(X_valid, y_valid))"
   ]
  },
  {
   "cell_type": "code",
   "execution_count": 18,
   "metadata": {},
   "outputs": [],
   "source": [
    "np.random.seed(42)\n",
    "tf.random.set_seed(42)\n",
    "\n",
    "model = keras.models.Sequential([\n",
    "    keras.layers.Flatten(input_shape=[28, 28]),\n",
    "    keras.layers.Dense(300, kernel_initializer=\"he_normal\"),\n",
    "    keras.layers.PReLU(),\n",
    "    keras.layers.Dense(100, kernel_initializer=\"he_normal\"),\n",
    "    keras.layers.PReLU(),\n",
    "    keras.layers.Dense(10, activation='softmax')\n",
    "])"
   ]
  },
  {
   "cell_type": "code",
   "execution_count": 19,
   "metadata": {},
   "outputs": [],
   "source": [
    "model.compile(loss='sparse_categorical_crossentropy',\n",
    "             optimizer=keras.optimizers.SGD(lr=1e-3),\n",
    "             metrics=['accuracy'])"
   ]
  },
  {
   "cell_type": "code",
   "execution_count": 20,
   "metadata": {},
   "outputs": [
    {
     "name": "stdout",
     "output_type": "stream",
     "text": [
      "Train on 55000 samples, validate on 5000 samples\n",
      "Epoch 1/30\n",
      "55000/55000 [==============================] - 9s 159us/sample - loss: 1.3452 - accuracy: 0.6203 - val_loss: 0.9241 - val_accuracy: 0.7170\n",
      "Epoch 2/30\n",
      "55000/55000 [==============================] - 8s 141us/sample - loss: 0.8196 - accuracy: 0.7364 - val_loss: 0.7314 - val_accuracy: 0.7602\n",
      "Epoch 3/30\n",
      "55000/55000 [==============================] - 8s 142us/sample - loss: 0.6970 - accuracy: 0.7701 - val_loss: 0.6517 - val_accuracy: 0.7876\n",
      "Epoch 4/30\n",
      "55000/55000 [==============================] - 8s 143us/sample - loss: 0.6333 - accuracy: 0.7915 - val_loss: 0.6033 - val_accuracy: 0.8054\n",
      "Epoch 5/30\n",
      "55000/55000 [==============================] - 8s 144us/sample - loss: 0.5917 - accuracy: 0.8049 - val_loss: 0.5689 - val_accuracy: 0.8164\n",
      "Epoch 6/30\n",
      "55000/55000 [==============================] - 8s 143us/sample - loss: 0.5619 - accuracy: 0.8144 - val_loss: 0.5417 - val_accuracy: 0.8222\n",
      "Epoch 7/30\n",
      "55000/55000 [==============================] - 8s 143us/sample - loss: 0.5392 - accuracy: 0.8205 - val_loss: 0.5213 - val_accuracy: 0.8300\n",
      "Epoch 8/30\n",
      "55000/55000 [==============================] - 8s 142us/sample - loss: 0.5215 - accuracy: 0.8256 - val_loss: 0.5075 - val_accuracy: 0.8354\n",
      "Epoch 9/30\n",
      "55000/55000 [==============================] - 8s 147us/sample - loss: 0.5071 - accuracy: 0.8287 - val_loss: 0.4917 - val_accuracy: 0.8384\n",
      "Epoch 10/30\n",
      "55000/55000 [==============================] - 8s 143us/sample - loss: 0.4946 - accuracy: 0.8321 - val_loss: 0.4839 - val_accuracy: 0.8378\n",
      "Epoch 11/30\n",
      "55000/55000 [==============================] - 8s 144us/sample - loss: 0.4843 - accuracy: 0.8347 - val_loss: 0.4719 - val_accuracy: 0.8436\n",
      "Epoch 12/30\n",
      "55000/55000 [==============================] - 8s 144us/sample - loss: 0.4755 - accuracy: 0.8376 - val_loss: 0.4646 - val_accuracy: 0.8468\n",
      "Epoch 13/30\n",
      "55000/55000 [==============================] - 9s 156us/sample - loss: 0.4672 - accuracy: 0.8387 - val_loss: 0.4572 - val_accuracy: 0.8490\n",
      "Epoch 14/30\n",
      "55000/55000 [==============================] - 8s 145us/sample - loss: 0.4601 - accuracy: 0.8417 - val_loss: 0.4522 - val_accuracy: 0.8508\n",
      "Epoch 15/30\n",
      "55000/55000 [==============================] - 8s 142us/sample - loss: 0.4540 - accuracy: 0.8427 - val_loss: 0.4442 - val_accuracy: 0.8534\n",
      "Epoch 16/30\n",
      "55000/55000 [==============================] - 8s 148us/sample - loss: 0.4482 - accuracy: 0.8450 - val_loss: 0.4408 - val_accuracy: 0.8528\n",
      "Epoch 17/30\n",
      "55000/55000 [==============================] - 8s 148us/sample - loss: 0.4429 - accuracy: 0.8465 - val_loss: 0.4369 - val_accuracy: 0.8546\n",
      "Epoch 18/30\n",
      "55000/55000 [==============================] - 8s 146us/sample - loss: 0.4379 - accuracy: 0.8473 - val_loss: 0.4309 - val_accuracy: 0.8566\n",
      "Epoch 19/30\n",
      "55000/55000 [==============================] - 8s 146us/sample - loss: 0.4333 - accuracy: 0.8500 - val_loss: 0.4300 - val_accuracy: 0.8550\n",
      "Epoch 20/30\n",
      "55000/55000 [==============================] - 8s 143us/sample - loss: 0.4290 - accuracy: 0.8510 - val_loss: 0.4251 - val_accuracy: 0.8568\n",
      "Epoch 21/30\n",
      "55000/55000 [==============================] - 8s 150us/sample - loss: 0.4252 - accuracy: 0.8517 - val_loss: 0.4218 - val_accuracy: 0.8562\n",
      "Epoch 22/30\n",
      "55000/55000 [==============================] - 8s 145us/sample - loss: 0.4209 - accuracy: 0.8537 - val_loss: 0.4219 - val_accuracy: 0.8594\n",
      "Epoch 23/30\n",
      "55000/55000 [==============================] - 8s 146us/sample - loss: 0.4175 - accuracy: 0.8545 - val_loss: 0.4149 - val_accuracy: 0.8598\n",
      "Epoch 24/30\n",
      "55000/55000 [==============================] - 8s 152us/sample - loss: 0.4144 - accuracy: 0.8548 - val_loss: 0.4111 - val_accuracy: 0.8608\n",
      "Epoch 25/30\n",
      "55000/55000 [==============================] - 8s 147us/sample - loss: 0.4112 - accuracy: 0.8573 - val_loss: 0.4104 - val_accuracy: 0.8582\n",
      "Epoch 26/30\n",
      "55000/55000 [==============================] - 8s 146us/sample - loss: 0.4082 - accuracy: 0.8575 - val_loss: 0.4098 - val_accuracy: 0.8618\n",
      "Epoch 27/30\n",
      "55000/55000 [==============================] - 8s 145us/sample - loss: 0.4049 - accuracy: 0.8589 - val_loss: 0.4045 - val_accuracy: 0.8632\n",
      "Epoch 28/30\n",
      "55000/55000 [==============================] - 8s 146us/sample - loss: 0.4023 - accuracy: 0.8593 - val_loss: 0.4031 - val_accuracy: 0.8646\n",
      "Epoch 29/30\n",
      "55000/55000 [==============================] - 8s 146us/sample - loss: 0.3997 - accuracy: 0.8607 - val_loss: 0.4010 - val_accuracy: 0.8622\n",
      "Epoch 30/30\n",
      "55000/55000 [==============================] - 8s 146us/sample - loss: 0.3970 - accuracy: 0.8609 - val_loss: 0.3997 - val_accuracy: 0.8602\n"
     ]
    }
   ],
   "source": [
    "hist = model.fit(X_train, y_train, epochs=30, validation_data=(X_valid, y_valid))"
   ]
  },
  {
   "cell_type": "code",
   "execution_count": 21,
   "metadata": {},
   "outputs": [],
   "source": [
    "np.random.seed(42)\n",
    "tf.random.set_seed(42)"
   ]
  },
  {
   "cell_type": "code",
   "execution_count": 22,
   "metadata": {},
   "outputs": [],
   "source": [
    "model = keras.models.Sequential()\n",
    "model.add(keras.layers.Flatten(input_shape=[28,28]))\n",
    "model.add(keras.layers.Dense(300, activation='selu', kernel_initializer='lecun_normal'))\n",
    "for layer in range(99):\n",
    "    model.add(keras.layers.Dense(100, activation='selu',\n",
    "                                 kernel_initializer='lecun_normal'))\n",
    "model.add(keras.layers.Dense(10, activation='softmax'))"
   ]
  },
  {
   "cell_type": "code",
   "execution_count": 23,
   "metadata": {},
   "outputs": [],
   "source": [
    "model.compile(loss='sparse_categorical_crossentropy',\n",
    "              optimizer=keras.optimizers.SGD(lr=1e-3),\n",
    "             metrics=['accuracy'])"
   ]
  },
  {
   "cell_type": "code",
   "execution_count": 13,
   "metadata": {},
   "outputs": [],
   "source": [
    "# scaler = StandardScaler()\n",
    "# X_train = scaler.fit_transform(X_train)\n",
    "# X_valid = scaler.transform(X_valid)\n",
    "# X_test = scaler.transform(X_test)"
   ]
  },
  {
   "cell_type": "code",
   "execution_count": 24,
   "metadata": {},
   "outputs": [],
   "source": [
    "pixel_means = X_train.mean(axis=0, keepdims=True)\n",
    "pixel_stds = X_train.std(axis=0, keepdims=True)"
   ]
  },
  {
   "cell_type": "code",
   "execution_count": 25,
   "metadata": {},
   "outputs": [],
   "source": [
    "X_train_scaled = (X_train - pixel_means) / pixel_stds"
   ]
  },
  {
   "cell_type": "code",
   "execution_count": 26,
   "metadata": {},
   "outputs": [],
   "source": [
    "X_valid_scaled = (X_valid - pixel_means) / pixel_stds"
   ]
  },
  {
   "cell_type": "code",
   "execution_count": 27,
   "metadata": {},
   "outputs": [],
   "source": [
    "X_test_scaled = (X_test - pixel_means) / pixel_stds"
   ]
  },
  {
   "cell_type": "code",
   "execution_count": 28,
   "metadata": {},
   "outputs": [
    {
     "name": "stdout",
     "output_type": "stream",
     "text": [
      "Train on 55000 samples, validate on 5000 samples\n",
      "Epoch 1/5\n",
      "55000/55000 [==============================] - 48s 864us/sample - loss: 1.2499 - accuracy: 0.5252 - val_loss: 2.1358 - val_accuracy: 0.3408\n",
      "Epoch 2/5\n",
      "55000/55000 [==============================] - 44s 795us/sample - loss: 0.7294 - accuracy: 0.7315 - val_loss: 1.8730 - val_accuracy: 0.3952\n",
      "Epoch 3/5\n",
      "55000/55000 [==============================] - 38s 695us/sample - loss: 0.6216 - accuracy: 0.7744 - val_loss: 1.7276 - val_accuracy: 0.4884\n",
      "Epoch 4/5\n",
      "55000/55000 [==============================] - 37s 670us/sample - loss: 0.5429 - accuracy: 0.8073 - val_loss: 2.0436 - val_accuracy: 0.4970\n",
      "Epoch 5/5\n",
      "55000/55000 [==============================] - 37s 673us/sample - loss: 0.4922 - accuracy: 0.8283 - val_loss: 1.5690 - val_accuracy: 0.4898\n"
     ]
    }
   ],
   "source": [
    "hist = model.fit(X_train_scaled, y_train, epochs=5, validation_data=(X_valid, y_valid))"
   ]
  },
  {
   "cell_type": "code",
   "execution_count": 29,
   "metadata": {},
   "outputs": [],
   "source": [
    "np.random.seed(42)\n",
    "tf.random.set_seed(42)"
   ]
  },
  {
   "cell_type": "code",
   "execution_count": 30,
   "metadata": {},
   "outputs": [],
   "source": [
    "model = keras.models.Sequential()\n",
    "model.add(keras.layers.Flatten(input_shape=[28,28]))\n",
    "model.add(keras.layers.Dense(300, activation='relu', kernel_initializer='he_normal'))\n",
    "for layer in range(99):\n",
    "    model.add(keras.layers.Dense(100, activation='relu',\n",
    "                                 kernel_initializer='he_normal'))\n",
    "model.add(keras.layers.Dense(10, activation='softmax'))"
   ]
  },
  {
   "cell_type": "code",
   "execution_count": 31,
   "metadata": {},
   "outputs": [],
   "source": [
    "model.compile(loss='sparse_categorical_crossentropy',\n",
    "              optimizer=keras.optimizers.SGD(lr=1e-3),\n",
    "             metrics=['accuracy'])"
   ]
  },
  {
   "cell_type": "code",
   "execution_count": 32,
   "metadata": {},
   "outputs": [
    {
     "name": "stdout",
     "output_type": "stream",
     "text": [
      "Train on 55000 samples, validate on 5000 samples\n",
      "Epoch 1/5\n",
      "55000/55000 [==============================] - 46s 834us/sample - loss: 1.7638 - accuracy: 0.2739 - val_loss: 1.2038 - val_accuracy: 0.482699 - acc - \n",
      "Epoch 2/5\n",
      "55000/55000 [==============================] - 40s 721us/sample - loss: 1.2234 - accuracy: 0.4845 - val_loss: 1.5434 - val_accuracy: 0.3528\n",
      "Epoch 3/5\n",
      "55000/55000 [==============================] - 39s 702us/sample - loss: 1.0149 - accuracy: 0.5817 - val_loss: 0.9307 - val_accuracy: 0.6212ETA: 0s - loss: 1\n",
      "Epoch 4/5\n",
      "55000/55000 [==============================] - 39s 709us/sample - loss: 0.8747 - accuracy: 0.6475 - val_loss: 0.7410 - val_accuracy: 0.7074s - loss: 0.9757 - ac - - ETA: 32s - loss: 0 - ETA: 30s - l - ETA: 28 - ETA: 26s - loss: 0.9555 - accuracy: 0 -  - ETA: 0s - loss: 0.8755 \n",
      "Epoch 5/5\n",
      "55000/55000 [==============================] - 39s 711us/sample - loss: 0.7750 - accuracy: 0.6922 - val_loss: 0.7507 - val_accuracy: 0.7036\n"
     ]
    }
   ],
   "source": [
    "hist = model.fit(X_train_scaled, y_train, epochs=5,\n",
    "                 validation_data=(X_valid_scaled, y_valid))"
   ]
  },
  {
   "cell_type": "code",
   "execution_count": 33,
   "metadata": {},
   "outputs": [],
   "source": [
    "# 배치 정규화( batch nomalization )"
   ]
  },
  {
   "cell_type": "code",
   "execution_count": 34,
   "metadata": {},
   "outputs": [],
   "source": [
    "model = keras.models.Sequential([\n",
    "    keras.layers.Flatten(input_shape=[28, 28]),\n",
    "    keras.layers.BatchNormalization(),\n",
    "    keras.layers.Dense(300, activation='relu'),\n",
    "    keras.layers.BatchNormalization(),\n",
    "    keras.layers.Dense(100, activation='relu'),\n",
    "    keras.layers.BatchNormalization(),\n",
    "    keras.layers.Dense(10, activation='softmax')\n",
    "])"
   ]
  },
  {
   "cell_type": "code",
   "execution_count": 35,
   "metadata": {},
   "outputs": [],
   "source": [
    "model.compile(loss='sparse_categorical_crossentropy',\n",
    "              optimizer=keras.optimizers.SGD(lr=1e-3),\n",
    "             metrics=['accuracy'])"
   ]
  },
  {
   "cell_type": "code",
   "execution_count": 36,
   "metadata": {},
   "outputs": [
    {
     "name": "stdout",
     "output_type": "stream",
     "text": [
      "Train on 55000 samples, validate on 5000 samples\n",
      "Epoch 1/10\n",
      "55000/55000 [==============================] - 13s 233us/sample - loss: 0.8761 - accuracy: 0.7123 - val_loss: 0.5509 - val_accuracy: 0.8230\n",
      "Epoch 2/10\n",
      "55000/55000 [==============================] - 11s 198us/sample - loss: 0.5737 - accuracy: 0.8038 - val_loss: 0.4724 - val_accuracy: 0.8452\n",
      "Epoch 3/10\n",
      "55000/55000 [==============================] - 11s 196us/sample - loss: 0.5143 - accuracy: 0.8230 - val_loss: 0.4377 - val_accuracy: 0.8572\n",
      "Epoch 4/10\n",
      "55000/55000 [==============================] - 11s 202us/sample - loss: 0.4826 - accuracy: 0.8329 - val_loss: 0.4134 - val_accuracy: 0.8638\n",
      "Epoch 5/10\n",
      "55000/55000 [==============================] - 11s 199us/sample - loss: 0.4570 - accuracy: 0.8414 - val_loss: 0.3990 - val_accuracy: 0.8652\n",
      "Epoch 6/10\n",
      "55000/55000 [==============================] - 11s 198us/sample - loss: 0.4432 - accuracy: 0.8455 - val_loss: 0.3870 - val_accuracy: 0.8710\n",
      "Epoch 7/10\n",
      "55000/55000 [==============================] - 11s 198us/sample - loss: 0.4254 - accuracy: 0.8513 - val_loss: 0.3782 - val_accuracy: 0.8706\n",
      "Epoch 8/10\n",
      "55000/55000 [==============================] - 11s 197us/sample - loss: 0.4150 - accuracy: 0.8533 - val_loss: 0.3707 - val_accuracy: 0.8754\n",
      "Epoch 9/10\n",
      "55000/55000 [==============================] - 11s 198us/sample - loss: 0.4016 - accuracy: 0.8597 - val_loss: 0.3637 - val_accuracy: 0.8750\n",
      "Epoch 10/10\n",
      "55000/55000 [==============================] - 11s 200us/sample - loss: 0.3915 - accuracy: 0.8628 - val_loss: 0.3601 - val_accuracy: 0.8754\n"
     ]
    }
   ],
   "source": [
    "hist = model.fit(X_train, y_train, epochs=10, validation_data=(X_valid, y_valid))"
   ]
  },
  {
   "cell_type": "code",
   "execution_count": null,
   "metadata": {},
   "outputs": [],
   "source": []
  },
  {
   "cell_type": "code",
   "execution_count": null,
   "metadata": {},
   "outputs": [],
   "source": []
  },
  {
   "cell_type": "code",
   "execution_count": null,
   "metadata": {},
   "outputs": [],
   "source": []
  },
  {
   "cell_type": "code",
   "execution_count": null,
   "metadata": {},
   "outputs": [],
   "source": []
  }
 ],
 "metadata": {
  "kernelspec": {
   "display_name": "Python 3",
   "language": "python",
   "name": "python3"
  },
  "language_info": {
   "codemirror_mode": {
    "name": "ipython",
    "version": 3
   },
   "file_extension": ".py",
   "mimetype": "text/x-python",
   "name": "python",
   "nbconvert_exporter": "python",
   "pygments_lexer": "ipython3",
   "version": "3.7.0"
  }
 },
 "nbformat": 4,
 "nbformat_minor": 2
}
